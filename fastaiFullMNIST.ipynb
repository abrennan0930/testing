{
  "nbformat": 4,
  "nbformat_minor": 0,
  "metadata": {
    "colab": {
      "name": "fastaiFullMNIST",
      "provenance": [],
      "collapsed_sections": []
    },
    "kernelspec": {
      "name": "python3",
      "display_name": "Python 3"
    },
    "language_info": {
      "name": "python"
    }
  },
  "cells": [
    {
      "cell_type": "code",
      "metadata": {
        "colab": {
          "base_uri": "https://localhost:8080/"
        },
        "id": "FgzF9QeQH9xl",
        "outputId": "c087a075-24be-4e77-8900-45f50844e15c"
      },
      "source": [
        "#let's do this.\n",
        "!pip install -Uqq fastbook\n",
        "import fastbook\n",
        "fastbook.setup_book()"
      ],
      "execution_count": 1,
      "outputs": [
        {
          "output_type": "stream",
          "text": [
            "\u001b[K     |████████████████████████████████| 727kB 5.9MB/s \n",
            "\u001b[K     |████████████████████████████████| 194kB 23.2MB/s \n",
            "\u001b[K     |████████████████████████████████| 1.2MB 21.0MB/s \n",
            "\u001b[K     |████████████████████████████████| 51kB 4.4MB/s \n",
            "\u001b[K     |████████████████████████████████| 61kB 5.0MB/s \n",
            "\u001b[K     |████████████████████████████████| 12.8MB 303kB/s \n",
            "\u001b[K     |████████████████████████████████| 776.8MB 20kB/s \n",
            "\u001b[K     |████████████████████████████████| 51kB 4.4MB/s \n",
            "\u001b[31mERROR: torchtext 0.9.0 has requirement torch==1.8.0, but you'll have torch 1.7.1 which is incompatible.\u001b[0m\n",
            "\u001b[?25hMounted at /content/gdrive\n"
          ],
          "name": "stdout"
        }
      ]
    },
    {
      "cell_type": "code",
      "metadata": {
        "id": "ZM1IxkjhIW8Z"
      },
      "source": [
        "from fastai.vision.all import *\n",
        "from fastbook import *\n",
        "\n",
        "matplotlib.rc('image', cmap='Greys')"
      ],
      "execution_count": 2,
      "outputs": []
    },
    {
      "cell_type": "code",
      "metadata": {
        "id": "bVj4OG7oIquA",
        "colab": {
          "base_uri": "https://localhost:8080/",
          "height": 17
        },
        "outputId": "4a83049e-4b63-45aa-c444-c646d3e16f9f"
      },
      "source": [
        "path = untar_data(URLs.MNIST)"
      ],
      "execution_count": 4,
      "outputs": [
        {
          "output_type": "display_data",
          "data": {
            "text/html": [
              ""
            ],
            "text/plain": [
              "<IPython.core.display.HTML object>"
            ]
          },
          "metadata": {
            "tags": []
          }
        }
      ]
    },
    {
      "cell_type": "code",
      "metadata": {
        "id": "cFjHjriJIuHy"
      },
      "source": [
        "Path.BASE_PATH = path"
      ],
      "execution_count": 5,
      "outputs": []
    },
    {
      "cell_type": "code",
      "metadata": {
        "id": "6OEYpGjTIwHL",
        "colab": {
          "base_uri": "https://localhost:8080/"
        },
        "outputId": "8f419afc-311f-4674-ecd7-73c4cfabb15d"
      },
      "source": [
        "path.ls()"
      ],
      "execution_count": 6,
      "outputs": [
        {
          "output_type": "execute_result",
          "data": {
            "text/plain": [
              "(#2) [Path('testing'),Path('training')]"
            ]
          },
          "metadata": {
            "tags": []
          },
          "execution_count": 6
        }
      ]
    },
    {
      "cell_type": "code",
      "metadata": {
        "id": "l9kIJZlYKFIV",
        "colab": {
          "base_uri": "https://localhost:8080/"
        },
        "outputId": "c68a81d8-20ad-44ab-deae-aa83f32f7e35"
      },
      "source": [
        "(path/'training').ls()"
      ],
      "execution_count": 7,
      "outputs": [
        {
          "output_type": "execute_result",
          "data": {
            "text/plain": [
              "(#10) [Path('training/5'),Path('training/3'),Path('training/4'),Path('training/8'),Path('training/7'),Path('training/9'),Path('training/6'),Path('training/1'),Path('training/2'),Path('training/0')]"
            ]
          },
          "metadata": {
            "tags": []
          },
          "execution_count": 7
        }
      ]
    },
    {
      "cell_type": "code",
      "metadata": {
        "id": "Iqmx3zwAKI0Z",
        "colab": {
          "base_uri": "https://localhost:8080/"
        },
        "outputId": "7128ae92-ab62-47e7-d399-a2de45380649"
      },
      "source": [
        "fns = {i: [fn for fn in (path/f'training/{i}').ls()] for i in range (10)}\n",
        "fns[0][:5]"
      ],
      "execution_count": 8,
      "outputs": [
        {
          "output_type": "execute_result",
          "data": {
            "text/plain": [
              "[Path('training/0/57491.png'),\n",
              " Path('training/0/8813.png'),\n",
              " Path('training/0/59859.png'),\n",
              " Path('training/0/40003.png'),\n",
              " Path('training/0/8147.png')]"
            ]
          },
          "metadata": {
            "tags": []
          },
          "execution_count": 8
        }
      ]
    },
    {
      "cell_type": "code",
      "metadata": {
        "id": "71aCsnkXKWmE"
      },
      "source": [
        "#open images and convert to tensors\n",
        "img_tensors = {key: [tensor(Image.open(pat)) for pat in paths] for (key, paths) in fns.items()}\n"
      ],
      "execution_count": 9,
      "outputs": []
    },
    {
      "cell_type": "code",
      "metadata": {
        "id": "n0y3IN9FKiHk",
        "colab": {
          "base_uri": "https://localhost:8080/"
        },
        "outputId": "da7eb0b1-b2c4-42c1-e5bf-3bde6b5b4b51"
      },
      "source": [
        "img_tensors[6][1][5:25, 10:20]"
      ],
      "execution_count": 21,
      "outputs": [
        {
          "output_type": "execute_result",
          "data": {
            "text/plain": [
              "tensor([[  0,   0,   0,   0,   0,   0,  79, 229, 231,  56],\n",
              "        [  0,   0,   0,   0,   0,  48, 247, 246,  88,   0],\n",
              "        [  0,   0,   0,   0,   8, 194, 245,  95,   0,   0],\n",
              "        [  0,   0,   0,  32, 197, 252,  73,   0,   0,   0],\n",
              "        [  0,   0,  25, 167, 254, 138,   0,   0,   0,   0],\n",
              "        [  0,   7, 178, 254, 142,   2,   0,   0,   0,   0],\n",
              "        [  0,  62, 254, 254,  36,   0,   0,   0,   0,   0],\n",
              "        [  0, 122, 254, 176,  57,  36,  20,   0,   0,   0],\n",
              "        [ 40, 247, 254, 254, 254, 254, 238, 152,  40,   0],\n",
              "        [158, 254, 254, 178, 109, 109, 100, 217, 221,  48],\n",
              "        [242, 234,  95,   5,   0,   0,   0,  80, 254, 116],\n",
              "        [254, 125,   0,   0,   0,   0,   0,  11, 254, 164],\n",
              "        [234,   5,   0,   0,   0,   0,   0,  37, 254, 164],\n",
              "        [232,   0,   0,   0,   0,   0,   0,  83, 254, 148],\n",
              "        [234,   5,   0,   0,   0,   0,   5, 160, 254,  66],\n",
              "        [249, 182,  40,   0,   0,  57, 176, 254, 156,   4],\n",
              "        [ 86, 229, 251, 187, 186, 253, 227, 104,   2,   0],\n",
              "        [  0,  10,  88, 170, 223, 139,  22,   0,   0,   0],\n",
              "        [  0,   0,   0,   0,   0,   0,   0,   0,   0,   0],\n",
              "        [  0,   0,   0,   0,   0,   0,   0,   0,   0,   0]], dtype=torch.uint8)"
            ]
          },
          "metadata": {
            "tags": []
          },
          "execution_count": 21
        }
      ]
    },
    {
      "cell_type": "code",
      "metadata": {
        "id": "IG7vVxK6Knl_",
        "colab": {
          "base_uri": "https://localhost:8080/",
          "height": 102
        },
        "outputId": "80ed677c-b4af-4081-d7e0-af091d562e77"
      },
      "source": [
        "show_image(img_tensors[6][1])"
      ],
      "execution_count": 16,
      "outputs": [
        {
          "output_type": "execute_result",
          "data": {
            "text/plain": [
              "<matplotlib.axes._subplots.AxesSubplot at 0x7f8f231fa650>"
            ]
          },
          "metadata": {
            "tags": []
          },
          "execution_count": 16
        },
        {
          "output_type": "display_data",
          "data": {
            "image/png": "[encoded data removed]",
            "text/plain": [
              "<Figure size 72x72 with 1 Axes>"
            ]
          },
          "metadata": {
            "tags": [],
            "needs_background": "light"
          }
        }
      ]
    },
    {
      "cell_type": "code",
      "metadata": {
        "id": "PL8df3TWKsWc",
        "colab": {
          "base_uri": "https://localhost:8080/",
          "height": 460
        },
        "outputId": "093ce155-0bbb-4650-a905-a3344fa13d84"
      },
      "source": [
        "df = pd.DataFrame(img_tensors[6][1][5:25, 8:22])\n",
        "df.style.set_properties(**{'font-size':'6pt'}).background_gradient('Greys')\n"
      ],
      "execution_count": 23,
      "outputs": [
        {
          "output_type": "execute_result",
          "data": {
            "text/html": [
              "<style  type=\"text/css\" >\n",
              "#T_67b7a786_900d_11eb_bfc8_0242ac1c0002row0_col0,#T_67b7a786_900d_11eb_bfc8_0242ac1c0002row0_col1,#T_67b7a786_900d_11eb_bfc8_0242ac1c0002row0_col2,#T_67b7a786_900d_11eb_bfc8_0242ac1c0002row0_col3,#T_67b7a786_900d_11eb_bfc8_0242ac1c0002row0_col4,#T_67b7a786_900d_11eb_bfc8_0242ac1c0002row0_col5,#T_67b7a786_900d_11eb_bfc8_0242ac1c0002row0_col6,#T_67b7a786_900d_11eb_bfc8_0242ac1c0002row0_col7,#T_67b7a786_900d_11eb_bfc8_0242ac1c0002row0_col12,#T_67b7a786_900d_11eb_bfc8_0242ac1c0002row0_col13,#T_67b7a786_900d_11eb_bfc8_0242ac1c0002row1_col0,#T_67b7a786_900d_11eb_bfc8_0242ac1c0002row1_col1,#T_67b7a786_900d_11eb_bfc8_0242ac1c0002row1_col2,#T_67b7a786_900d_11eb_bfc8_0242ac1c0002row1_col3,#T_67b7a786_900d_11eb_bfc8_0242ac1c0002row1_col4,#T_67b7a786_900d_11eb_bfc8_0242ac1c0002row1_col5,#T_67b7a786_900d_11eb_bfc8_0242ac1c0002row1_col6,#T_67b7a786_900d_11eb_bfc8_0242ac1c0002row1_col11,#T_67b7a786_900d_11eb_bfc8_0242ac1c0002row1_col12,#T_67b7a786_900d_11eb_bfc8_0242ac1c0002row1_col13,#T_67b7a786_900d_11eb_bfc8_0242ac1c0002row2_col0,#T_67b7a786_900d_11eb_bfc8_0242ac1c0002row2_col1,#T_67b7a786_900d_11eb_bfc8_0242ac1c0002row2_col2,#T_67b7a786_900d_11eb_bfc8_0242ac1c0002row2_col3,#T_67b7a786_900d_11eb_bfc8_0242ac1c0002row2_col4,#T_67b7a786_900d_11eb_bfc8_0242ac1c0002row2_col5,#T_67b7a786_900d_11eb_bfc8_0242ac1c0002row2_col10,#T_67b7a786_900d_11eb_bfc8_0242ac1c0002row2_col11,#T_67b7a786_900d_11eb_bfc8_0242ac1c0002row2_col12,#T_67b7a786_900d_11eb_bfc8_0242ac1c0002row2_col13,#T_67b7a786_900d_11eb_bfc8_0242ac1c0002row3_col0,#T_67b7a786_900d_11eb_bfc8_0242ac1c0002row3_col1,#T_67b7a786_900d_11eb_bfc8_0242ac1c0002row3_col2,#T_67b7a786_900d_11eb_bfc8_0242ac1c0002row3_col3,#T_67b7a786_900d_11eb_bfc8_0242ac1c0002row3_col4,#T_67b7a786_900d_11eb_bfc8_0242ac1c0002row3_col9,#T_67b7a786_900d_11eb_bfc8_0242ac1c0002row3_col10,#T_67b7a786_900d_11eb_bfc8_0242ac1c0002row3_col11,#T_67b7a786_900d_11eb_bfc8_0242ac1c0002row3_col12,#T_67b7a786_900d_11eb_bfc8_0242ac1c0002row3_col13,#T_67b7a786_900d_11eb_bfc8_0242ac1c0002row4_col0,#T_67b7a786_900d_11eb_bfc8_0242ac1c0002row4_col1,#T_67b7a786_900d_11eb_bfc8_0242ac1c0002row4_col2,#T_67b7a786_900d_11eb_bfc8_0242ac1c0002row4_col3,#T_67b7a786_900d_11eb_bfc8_0242ac1c0002row4_col8,#T_67b7a786_900d_11eb_bfc8_0242ac1c0002row4_col9,#T_67b7a786_900d_11eb_bfc8_0242ac1c0002row4_col10,#T_67b7a786_900d_11eb_bfc8_0242ac1c0002row4_col11,#T_67b7a786_900d_11eb_bfc8_0242ac1c0002row4_col12,#T_67b7a786_900d_11eb_bfc8_0242ac1c0002row4_col13,#T_67b7a786_900d_11eb_bfc8_0242ac1c0002row5_col0,#T_67b7a786_900d_11eb_bfc8_0242ac1c0002row5_col1,#T_67b7a786_900d_11eb_bfc8_0242ac1c0002row5_col2,#T_67b7a786_900d_11eb_bfc8_0242ac1c0002row5_col8,#T_67b7a786_900d_11eb_bfc8_0242ac1c0002row5_col9,#T_67b7a786_900d_11eb_bfc8_0242ac1c0002row5_col10,#T_67b7a786_900d_11eb_bfc8_0242ac1c0002row5_col11,#T_67b7a786_900d_11eb_bfc8_0242ac1c0002row5_col12,#T_67b7a786_900d_11eb_bfc8_0242ac1c0002row5_col13,#T_67b7a786_900d_11eb_bfc8_0242ac1c0002row6_col0,#T_67b7a786_900d_11eb_bfc8_0242ac1c0002row6_col1,#T_67b7a786_900d_11eb_bfc8_0242ac1c0002row6_col2,#T_67b7a786_900d_11eb_bfc8_0242ac1c0002row6_col7,#T_67b7a786_900d_11eb_bfc8_0242ac1c0002row6_col8,#T_67b7a786_900d_11eb_bfc8_0242ac1c0002row6_col9,#T_67b7a786_900d_11eb_bfc8_0242ac1c0002row6_col10,#T_67b7a786_900d_11eb_bfc8_0242ac1c0002row6_col11,#T_67b7a786_900d_11eb_bfc8_0242ac1c0002row6_col12,#T_67b7a786_900d_11eb_bfc8_0242ac1c0002row6_col13,#T_67b7a786_900d_11eb_bfc8_0242ac1c0002row7_col0,#T_67b7a786_900d_11eb_bfc8_0242ac1c0002row7_col1,#T_67b7a786_900d_11eb_bfc8_0242ac1c0002row7_col2,#T_67b7a786_900d_11eb_bfc8_0242ac1c0002row7_col9,#T_67b7a786_900d_11eb_bfc8_0242ac1c0002row7_col10,#T_67b7a786_900d_11eb_bfc8_0242ac1c0002row7_col11,#T_67b7a786_900d_11eb_bfc8_0242ac1c0002row7_col12,#T_67b7a786_900d_11eb_bfc8_0242ac1c0002row7_col13,#T_67b7a786_900d_11eb_bfc8_0242ac1c0002row8_col0,#T_67b7a786_900d_11eb_bfc8_0242ac1c0002row8_col1,#T_67b7a786_900d_11eb_bfc8_0242ac1c0002row8_col11,#T_67b7a786_900d_11eb_bfc8_0242ac1c0002row8_col12,#T_67b7a786_900d_11eb_bfc8_0242ac1c0002row8_col13,#T_67b7a786_900d_11eb_bfc8_0242ac1c0002row9_col0,#T_67b7a786_900d_11eb_bfc8_0242ac1c0002row9_col1,#T_67b7a786_900d_11eb_bfc8_0242ac1c0002row9_col12,#T_67b7a786_900d_11eb_bfc8_0242ac1c0002row9_col13,#T_67b7a786_900d_11eb_bfc8_0242ac1c0002row10_col0,#T_67b7a786_900d_11eb_bfc8_0242ac1c0002row10_col6,#T_67b7a786_900d_11eb_bfc8_0242ac1c0002row10_col7,#T_67b7a786_900d_11eb_bfc8_0242ac1c0002row10_col8,#T_67b7a786_900d_11eb_bfc8_0242ac1c0002row10_col12,#T_67b7a786_900d_11eb_bfc8_0242ac1c0002row10_col13,#T_67b7a786_900d_11eb_bfc8_0242ac1c0002row11_col0,#T_67b7a786_900d_11eb_bfc8_0242ac1c0002row11_col4,#T_67b7a786_900d_11eb_bfc8_0242ac1c0002row11_col5,#T_67b7a786_900d_11eb_bfc8_0242ac1c0002row11_col6,#T_67b7a786_900d_11eb_bfc8_0242ac1c0002row11_col7,#T_67b7a786_900d_11eb_bfc8_0242ac1c0002row11_col8,#T_67b7a786_900d_11eb_bfc8_0242ac1c0002row11_col12,#T_67b7a786_900d_11eb_bfc8_0242ac1c0002row11_col13,#T_67b7a786_900d_11eb_bfc8_0242ac1c0002row12_col0,#T_67b7a786_900d_11eb_bfc8_0242ac1c0002row12_col4,#T_67b7a786_900d_11eb_bfc8_0242ac1c0002row12_col5,#T_67b7a786_900d_11eb_bfc8_0242ac1c0002row12_col6,#T_67b7a786_900d_11eb_bfc8_0242ac1c0002row12_col7,#T_67b7a786_900d_11eb_bfc8_0242ac1c0002row12_col8,#T_67b7a786_900d_11eb_bfc8_0242ac1c0002row12_col12,#T_67b7a786_900d_11eb_bfc8_0242ac1c0002row12_col13,#T_67b7a786_900d_11eb_bfc8_0242ac1c0002row13_col0,#T_67b7a786_900d_11eb_bfc8_0242ac1c0002row13_col3,#T_67b7a786_900d_11eb_bfc8_0242ac1c0002row13_col4,#T_67b7a786_900d_11eb_bfc8_0242ac1c0002row13_col5,#T_67b7a786_900d_11eb_bfc8_0242ac1c0002row13_col6,#T_67b7a786_900d_11eb_bfc8_0242ac1c0002row13_col7,#T_67b7a786_900d_11eb_bfc8_0242ac1c0002row13_col8,#T_67b7a786_900d_11eb_bfc8_0242ac1c0002row13_col12,#T_67b7a786_900d_11eb_bfc8_0242ac1c0002row13_col13,#T_67b7a786_900d_11eb_bfc8_0242ac1c0002row14_col0,#T_67b7a786_900d_11eb_bfc8_0242ac1c0002row14_col4,#T_67b7a786_900d_11eb_bfc8_0242ac1c0002row14_col5,#T_67b7a786_900d_11eb_bfc8_0242ac1c0002row14_col6,#T_67b7a786_900d_11eb_bfc8_0242ac1c0002row14_col7,#T_67b7a786_900d_11eb_bfc8_0242ac1c0002row14_col12,#T_67b7a786_900d_11eb_bfc8_0242ac1c0002row14_col13,#T_67b7a786_900d_11eb_bfc8_0242ac1c0002row15_col0,#T_67b7a786_900d_11eb_bfc8_0242ac1c0002row15_col5,#T_67b7a786_900d_11eb_bfc8_0242ac1c0002row15_col6,#T_67b7a786_900d_11eb_bfc8_0242ac1c0002row15_col12,#T_67b7a786_900d_11eb_bfc8_0242ac1c0002row15_col13,#T_67b7a786_900d_11eb_bfc8_0242ac1c0002row16_col0,#T_67b7a786_900d_11eb_bfc8_0242ac1c0002row16_col1,#T_67b7a786_900d_11eb_bfc8_0242ac1c0002row16_col11,#T_67b7a786_900d_11eb_bfc8_0242ac1c0002row16_col12,#T_67b7a786_900d_11eb_bfc8_0242ac1c0002row16_col13,#T_67b7a786_900d_11eb_bfc8_0242ac1c0002row17_col0,#T_67b7a786_900d_11eb_bfc8_0242ac1c0002row17_col1,#T_67b7a786_900d_11eb_bfc8_0242ac1c0002row17_col2,#T_67b7a786_900d_11eb_bfc8_0242ac1c0002row17_col9,#T_67b7a786_900d_11eb_bfc8_0242ac1c0002row17_col10,#T_67b7a786_900d_11eb_bfc8_0242ac1c0002row17_col11,#T_67b7a786_900d_11eb_bfc8_0242ac1c0002row17_col12,#T_67b7a786_900d_11eb_bfc8_0242ac1c0002row17_col13,#T_67b7a786_900d_11eb_bfc8_0242ac1c0002row18_col0,#T_67b7a786_900d_11eb_bfc8_0242ac1c0002row18_col1,#T_67b7a786_900d_11eb_bfc8_0242ac1c0002row18_col2,#T_67b7a786_900d_11eb_bfc8_0242ac1c0002row18_col3,#T_67b7a786_900d_11eb_bfc8_0242ac1c0002row18_col4,#T_67b7a786_900d_11eb_bfc8_0242ac1c0002row18_col5,#T_67b7a786_900d_11eb_bfc8_0242ac1c0002row18_col6,#T_67b7a786_900d_11eb_bfc8_0242ac1c0002row18_col7,#T_67b7a786_900d_11eb_bfc8_0242ac1c0002row18_col8,#T_67b7a786_900d_11eb_bfc8_0242ac1c0002row18_col9,#T_67b7a786_900d_11eb_bfc8_0242ac1c0002row18_col10,#T_67b7a786_900d_11eb_bfc8_0242ac1c0002row18_col11,#T_67b7a786_900d_11eb_bfc8_0242ac1c0002row18_col12,#T_67b7a786_900d_11eb_bfc8_0242ac1c0002row18_col13,#T_67b7a786_900d_11eb_bfc8_0242ac1c0002row19_col0,#T_67b7a786_900d_11eb_bfc8_0242ac1c0002row19_col1,#T_67b7a786_900d_11eb_bfc8_0242ac1c0002row19_col2,#T_67b7a786_900d_11eb_bfc8_0242ac1c0002row19_col3,#T_67b7a786_900d_11eb_bfc8_0242ac1c0002row19_col4,#T_67b7a786_900d_11eb_bfc8_0242ac1c0002row19_col5,#T_67b7a786_900d_11eb_bfc8_0242ac1c0002row19_col6,#T_67b7a786_900d_11eb_bfc8_0242ac1c0002row19_col7,#T_67b7a786_900d_11eb_bfc8_0242ac1c0002row19_col8,#T_67b7a786_900d_11eb_bfc8_0242ac1c0002row19_col9,#T_67b7a786_900d_11eb_bfc8_0242ac1c0002row19_col10,#T_67b7a786_900d_11eb_bfc8_0242ac1c0002row19_col11,#T_67b7a786_900d_11eb_bfc8_0242ac1c0002row19_col12,#T_67b7a786_900d_11eb_bfc8_0242ac1c0002row19_col13{\n",
              "            font-size:  6pt;\n",
              "            background-color:  #ffffff;\n",
              "            color:  #000000;\n",
              "        }#T_67b7a786_900d_11eb_bfc8_0242ac1c0002row0_col8{\n",
              "            font-size:  6pt;\n",
              "            background-color:  #cacaca;\n",
              "            color:  #000000;\n",
              "        }#T_67b7a786_900d_11eb_bfc8_0242ac1c0002row0_col9,#T_67b7a786_900d_11eb_bfc8_0242ac1c0002row16_col3{\n",
              "            font-size:  6pt;\n",
              "            background-color:  #1d1d1d;\n",
              "            color:  #f1f1f1;\n",
              "        }#T_67b7a786_900d_11eb_bfc8_0242ac1c0002row0_col10{\n",
              "            font-size:  6pt;\n",
              "            background-color:  #1b1b1b;\n",
              "            color:  #f1f1f1;\n",
              "        }#T_67b7a786_900d_11eb_bfc8_0242ac1c0002row0_col11,#T_67b7a786_900d_11eb_bfc8_0242ac1c0002row16_col2{\n",
              "            font-size:  6pt;\n",
              "            background-color:  #c5c5c5;\n",
              "            color:  #000000;\n",
              "        }#T_67b7a786_900d_11eb_bfc8_0242ac1c0002row1_col7{\n",
              "            font-size:  6pt;\n",
              "            background-color:  #e4e4e4;\n",
              "            color:  #000000;\n",
              "        }#T_67b7a786_900d_11eb_bfc8_0242ac1c0002row1_col8,#T_67b7a786_900d_11eb_bfc8_0242ac1c0002row4_col6,#T_67b7a786_900d_11eb_bfc8_0242ac1c0002row5_col5,#T_67b7a786_900d_11eb_bfc8_0242ac1c0002row6_col4,#T_67b7a786_900d_11eb_bfc8_0242ac1c0002row6_col5,#T_67b7a786_900d_11eb_bfc8_0242ac1c0002row7_col4,#T_67b7a786_900d_11eb_bfc8_0242ac1c0002row8_col4,#T_67b7a786_900d_11eb_bfc8_0242ac1c0002row8_col5,#T_67b7a786_900d_11eb_bfc8_0242ac1c0002row8_col6,#T_67b7a786_900d_11eb_bfc8_0242ac1c0002row8_col7,#T_67b7a786_900d_11eb_bfc8_0242ac1c0002row9_col3,#T_67b7a786_900d_11eb_bfc8_0242ac1c0002row9_col4,#T_67b7a786_900d_11eb_bfc8_0242ac1c0002row10_col10,#T_67b7a786_900d_11eb_bfc8_0242ac1c0002row11_col1,#T_67b7a786_900d_11eb_bfc8_0242ac1c0002row11_col2,#T_67b7a786_900d_11eb_bfc8_0242ac1c0002row11_col10,#T_67b7a786_900d_11eb_bfc8_0242ac1c0002row11_col11,#T_67b7a786_900d_11eb_bfc8_0242ac1c0002row12_col1,#T_67b7a786_900d_11eb_bfc8_0242ac1c0002row12_col10,#T_67b7a786_900d_11eb_bfc8_0242ac1c0002row12_col11,#T_67b7a786_900d_11eb_bfc8_0242ac1c0002row13_col1,#T_67b7a786_900d_11eb_bfc8_0242ac1c0002row13_col10,#T_67b7a786_900d_11eb_bfc8_0242ac1c0002row14_col1,#T_67b7a786_900d_11eb_bfc8_0242ac1c0002row14_col10,#T_67b7a786_900d_11eb_bfc8_0242ac1c0002row15_col9{\n",
              "            font-size:  6pt;\n",
              "            background-color:  #000000;\n",
              "            color:  #f1f1f1;\n",
              "        }#T_67b7a786_900d_11eb_bfc8_0242ac1c0002row1_col9{\n",
              "            font-size:  6pt;\n",
              "            background-color:  #090909;\n",
              "            color:  #f1f1f1;\n",
              "        }#T_67b7a786_900d_11eb_bfc8_0242ac1c0002row1_col10,#T_67b7a786_900d_11eb_bfc8_0242ac1c0002row17_col4{\n",
              "            font-size:  6pt;\n",
              "            background-color:  #c4c4c4;\n",
              "            color:  #000000;\n",
              "        }#T_67b7a786_900d_11eb_bfc8_0242ac1c0002row2_col6{\n",
              "            font-size:  6pt;\n",
              "            background-color:  #fbfbfb;\n",
              "            color:  #000000;\n",
              "        }#T_67b7a786_900d_11eb_bfc8_0242ac1c0002row2_col7{\n",
              "            font-size:  6pt;\n",
              "            background-color:  #4d4d4d;\n",
              "            color:  #f1f1f1;\n",
              "        }#T_67b7a786_900d_11eb_bfc8_0242ac1c0002row2_col8,#T_67b7a786_900d_11eb_bfc8_0242ac1c0002row3_col7{\n",
              "            font-size:  6pt;\n",
              "            background-color:  #020202;\n",
              "            color:  #f1f1f1;\n",
              "        }#T_67b7a786_900d_11eb_bfc8_0242ac1c0002row2_col9,#T_67b7a786_900d_11eb_bfc8_0242ac1c0002row10_col4{\n",
              "            font-size:  6pt;\n",
              "            background-color:  #bebebe;\n",
              "            color:  #000000;\n",
              "        }#T_67b7a786_900d_11eb_bfc8_0242ac1c0002row3_col5{\n",
              "            font-size:  6pt;\n",
              "            background-color:  #f0f0f0;\n",
              "            color:  #000000;\n",
              "        }#T_67b7a786_900d_11eb_bfc8_0242ac1c0002row3_col6{\n",
              "            font-size:  6pt;\n",
              "            background-color:  #484848;\n",
              "            color:  #f1f1f1;\n",
              "        }#T_67b7a786_900d_11eb_bfc8_0242ac1c0002row3_col8{\n",
              "            font-size:  6pt;\n",
              "            background-color:  #cfcfcf;\n",
              "            color:  #000000;\n",
              "        }#T_67b7a786_900d_11eb_bfc8_0242ac1c0002row4_col4{\n",
              "            font-size:  6pt;\n",
              "            background-color:  #f3f3f3;\n",
              "            color:  #000000;\n",
              "        }#T_67b7a786_900d_11eb_bfc8_0242ac1c0002row4_col5{\n",
              "            font-size:  6pt;\n",
              "            background-color:  #6a6a6a;\n",
              "            color:  #000000;\n",
              "        }#T_67b7a786_900d_11eb_bfc8_0242ac1c0002row4_col7,#T_67b7a786_900d_11eb_bfc8_0242ac1c0002row15_col1{\n",
              "            font-size:  6pt;\n",
              "            background-color:  #898989;\n",
              "            color:  #000000;\n",
              "        }#T_67b7a786_900d_11eb_bfc8_0242ac1c0002row5_col3,#T_67b7a786_900d_11eb_bfc8_0242ac1c0002row15_col11{\n",
              "            font-size:  6pt;\n",
              "            background-color:  #fcfcfc;\n",
              "            color:  #000000;\n",
              "        }#T_67b7a786_900d_11eb_bfc8_0242ac1c0002row5_col4,#T_67b7a786_900d_11eb_bfc8_0242ac1c0002row9_col5{\n",
              "            font-size:  6pt;\n",
              "            background-color:  #5f5f5f;\n",
              "            color:  #f1f1f1;\n",
              "        }#T_67b7a786_900d_11eb_bfc8_0242ac1c0002row5_col6{\n",
              "            font-size:  6pt;\n",
              "            background-color:  #858585;\n",
              "            color:  #000000;\n",
              "        }#T_67b7a786_900d_11eb_bfc8_0242ac1c0002row5_col7,#T_67b7a786_900d_11eb_bfc8_0242ac1c0002row16_col10{\n",
              "            font-size:  6pt;\n",
              "            background-color:  #fefefe;\n",
              "            color:  #000000;\n",
              "        }#T_67b7a786_900d_11eb_bfc8_0242ac1c0002row6_col3{\n",
              "            font-size:  6pt;\n",
              "            background-color:  #dadada;\n",
              "            color:  #000000;\n",
              "        }#T_67b7a786_900d_11eb_bfc8_0242ac1c0002row6_col6,#T_67b7a786_900d_11eb_bfc8_0242ac1c0002row7_col7{\n",
              "            font-size:  6pt;\n",
              "            background-color:  #ededed;\n",
              "            color:  #000000;\n",
              "        }#T_67b7a786_900d_11eb_bfc8_0242ac1c0002row7_col3{\n",
              "            font-size:  6pt;\n",
              "            background-color:  #9d9d9d;\n",
              "            color:  #000000;\n",
              "        }#T_67b7a786_900d_11eb_bfc8_0242ac1c0002row7_col5{\n",
              "            font-size:  6pt;\n",
              "            background-color:  #616161;\n",
              "            color:  #f1f1f1;\n",
              "        }#T_67b7a786_900d_11eb_bfc8_0242ac1c0002row7_col6,#T_67b7a786_900d_11eb_bfc8_0242ac1c0002row10_col1,#T_67b7a786_900d_11eb_bfc8_0242ac1c0002row15_col7{\n",
              "            font-size:  6pt;\n",
              "            background-color:  #dedede;\n",
              "            color:  #000000;\n",
              "        }#T_67b7a786_900d_11eb_bfc8_0242ac1c0002row7_col8{\n",
              "            font-size:  6pt;\n",
              "            background-color:  #f6f6f6;\n",
              "            color:  #000000;\n",
              "        }#T_67b7a786_900d_11eb_bfc8_0242ac1c0002row8_col2,#T_67b7a786_900d_11eb_bfc8_0242ac1c0002row8_col10,#T_67b7a786_900d_11eb_bfc8_0242ac1c0002row15_col4{\n",
              "            font-size:  6pt;\n",
              "            background-color:  #eaeaea;\n",
              "            color:  #000000;\n",
              "        }#T_67b7a786_900d_11eb_bfc8_0242ac1c0002row8_col3{\n",
              "            font-size:  6pt;\n",
              "            background-color:  #080808;\n",
              "            color:  #f1f1f1;\n",
              "        }#T_67b7a786_900d_11eb_bfc8_0242ac1c0002row8_col8{\n",
              "            font-size:  6pt;\n",
              "            background-color:  #0a0a0a;\n",
              "            color:  #f1f1f1;\n",
              "        }#T_67b7a786_900d_11eb_bfc8_0242ac1c0002row8_col9{\n",
              "            font-size:  6pt;\n",
              "            background-color:  #7a7a7a;\n",
              "            color:  #000000;\n",
              "        }#T_67b7a786_900d_11eb_bfc8_0242ac1c0002row9_col2{\n",
              "            font-size:  6pt;\n",
              "            background-color:  #737373;\n",
              "            color:  #000000;\n",
              "        }#T_67b7a786_900d_11eb_bfc8_0242ac1c0002row9_col6,#T_67b7a786_900d_11eb_bfc8_0242ac1c0002row9_col7{\n",
              "            font-size:  6pt;\n",
              "            background-color:  #adadad;\n",
              "            color:  #000000;\n",
              "        }#T_67b7a786_900d_11eb_bfc8_0242ac1c0002row9_col8,#T_67b7a786_900d_11eb_bfc8_0242ac1c0002row14_col11{\n",
              "            font-size:  6pt;\n",
              "            background-color:  #b4b4b4;\n",
              "            color:  #000000;\n",
              "        }#T_67b7a786_900d_11eb_bfc8_0242ac1c0002row9_col9{\n",
              "            font-size:  6pt;\n",
              "            background-color:  #2c2c2c;\n",
              "            color:  #f1f1f1;\n",
              "        }#T_67b7a786_900d_11eb_bfc8_0242ac1c0002row9_col10{\n",
              "            font-size:  6pt;\n",
              "            background-color:  #272727;\n",
              "            color:  #f1f1f1;\n",
              "        }#T_67b7a786_900d_11eb_bfc8_0242ac1c0002row9_col11{\n",
              "            font-size:  6pt;\n",
              "            background-color:  #d0d0d0;\n",
              "            color:  #000000;\n",
              "        }#T_67b7a786_900d_11eb_bfc8_0242ac1c0002row10_col2{\n",
              "            font-size:  6pt;\n",
              "            background-color:  #0e0e0e;\n",
              "            color:  #f1f1f1;\n",
              "        }#T_67b7a786_900d_11eb_bfc8_0242ac1c0002row10_col3,#T_67b7a786_900d_11eb_bfc8_0242ac1c0002row12_col2,#T_67b7a786_900d_11eb_bfc8_0242ac1c0002row14_col2,#T_67b7a786_900d_11eb_bfc8_0242ac1c0002row16_col8{\n",
              "            font-size:  6pt;\n",
              "            background-color:  #171717;\n",
              "            color:  #f1f1f1;\n",
              "        }#T_67b7a786_900d_11eb_bfc8_0242ac1c0002row10_col5,#T_67b7a786_900d_11eb_bfc8_0242ac1c0002row12_col3,#T_67b7a786_900d_11eb_bfc8_0242ac1c0002row14_col3,#T_67b7a786_900d_11eb_bfc8_0242ac1c0002row14_col8{\n",
              "            font-size:  6pt;\n",
              "            background-color:  #fdfdfd;\n",
              "            color:  #000000;\n",
              "        }#T_67b7a786_900d_11eb_bfc8_0242ac1c0002row10_col9{\n",
              "            font-size:  6pt;\n",
              "            background-color:  #cbcbcb;\n",
              "            color:  #000000;\n",
              "        }#T_67b7a786_900d_11eb_bfc8_0242ac1c0002row10_col11{\n",
              "            font-size:  6pt;\n",
              "            background-color:  #5d5d5d;\n",
              "            color:  #f1f1f1;\n",
              "        }#T_67b7a786_900d_11eb_bfc8_0242ac1c0002row11_col3{\n",
              "            font-size:  6pt;\n",
              "            background-color:  #999999;\n",
              "            color:  #000000;\n",
              "        }#T_67b7a786_900d_11eb_bfc8_0242ac1c0002row11_col9,#T_67b7a786_900d_11eb_bfc8_0242ac1c0002row17_col3{\n",
              "            font-size:  6pt;\n",
              "            background-color:  #fafafa;\n",
              "            color:  #000000;\n",
              "        }#T_67b7a786_900d_11eb_bfc8_0242ac1c0002row12_col9{\n",
              "            font-size:  6pt;\n",
              "            background-color:  #ececec;\n",
              "            color:  #000000;\n",
              "        }#T_67b7a786_900d_11eb_bfc8_0242ac1c0002row13_col2{\n",
              "            font-size:  6pt;\n",
              "            background-color:  #1a1a1a;\n",
              "            color:  #f1f1f1;\n",
              "        }#T_67b7a786_900d_11eb_bfc8_0242ac1c0002row13_col9{\n",
              "            font-size:  6pt;\n",
              "            background-color:  #c8c8c8;\n",
              "            color:  #000000;\n",
              "        }#T_67b7a786_900d_11eb_bfc8_0242ac1c0002row13_col11{\n",
              "            font-size:  6pt;\n",
              "            background-color:  #1c1c1c;\n",
              "            color:  #f1f1f1;\n",
              "        }#T_67b7a786_900d_11eb_bfc8_0242ac1c0002row14_col9{\n",
              "            font-size:  6pt;\n",
              "            background-color:  #717171;\n",
              "            color:  #000000;\n",
              "        }#T_67b7a786_900d_11eb_bfc8_0242ac1c0002row15_col2{\n",
              "            font-size:  6pt;\n",
              "            background-color:  #060606;\n",
              "            color:  #f1f1f1;\n",
              "        }#T_67b7a786_900d_11eb_bfc8_0242ac1c0002row15_col3{\n",
              "            font-size:  6pt;\n",
              "            background-color:  #5b5b5b;\n",
              "            color:  #f1f1f1;\n",
              "        }#T_67b7a786_900d_11eb_bfc8_0242ac1c0002row15_col8{\n",
              "            font-size:  6pt;\n",
              "            background-color:  #5c5c5c;\n",
              "            color:  #f1f1f1;\n",
              "        }#T_67b7a786_900d_11eb_bfc8_0242ac1c0002row15_col10{\n",
              "            font-size:  6pt;\n",
              "            background-color:  #767676;\n",
              "            color:  #000000;\n",
              "        }#T_67b7a786_900d_11eb_bfc8_0242ac1c0002row16_col4{\n",
              "            font-size:  6pt;\n",
              "            background-color:  #030303;\n",
              "            color:  #f1f1f1;\n",
              "        }#T_67b7a786_900d_11eb_bfc8_0242ac1c0002row16_col5{\n",
              "            font-size:  6pt;\n",
              "            background-color:  #555555;\n",
              "            color:  #f1f1f1;\n",
              "        }#T_67b7a786_900d_11eb_bfc8_0242ac1c0002row16_col6{\n",
              "            font-size:  6pt;\n",
              "            background-color:  #565656;\n",
              "            color:  #f1f1f1;\n",
              "        }#T_67b7a786_900d_11eb_bfc8_0242ac1c0002row16_col7{\n",
              "            font-size:  6pt;\n",
              "            background-color:  #010101;\n",
              "            color:  #f1f1f1;\n",
              "        }#T_67b7a786_900d_11eb_bfc8_0242ac1c0002row16_col9{\n",
              "            font-size:  6pt;\n",
              "            background-color:  #b3b3b3;\n",
              "            color:  #000000;\n",
              "        }#T_67b7a786_900d_11eb_bfc8_0242ac1c0002row17_col5{\n",
              "            font-size:  6pt;\n",
              "            background-color:  #676767;\n",
              "            color:  #f1f1f1;\n",
              "        }#T_67b7a786_900d_11eb_bfc8_0242ac1c0002row17_col6{\n",
              "            font-size:  6pt;\n",
              "            background-color:  #242424;\n",
              "            color:  #f1f1f1;\n",
              "        }#T_67b7a786_900d_11eb_bfc8_0242ac1c0002row17_col7{\n",
              "            font-size:  6pt;\n",
              "            background-color:  #888888;\n",
              "            color:  #000000;\n",
              "        }#T_67b7a786_900d_11eb_bfc8_0242ac1c0002row17_col8{\n",
              "            font-size:  6pt;\n",
              "            background-color:  #f5f5f5;\n",
              "            color:  #000000;\n",
              "        }</style><table id=\"T_67b7a786_900d_11eb_bfc8_0242ac1c0002\" ><thead>    <tr>        <th class=\"blank level0\" ></th>        <th class=\"col_heading level0 col0\" >0</th>        <th class=\"col_heading level0 col1\" >1</th>        <th class=\"col_heading level0 col2\" >2</th>        <th class=\"col_heading level0 col3\" >3</th>        <th class=\"col_heading level0 col4\" >4</th>        <th class=\"col_heading level0 col5\" >5</th>        <th class=\"col_heading level0 col6\" >6</th>        <th class=\"col_heading level0 col7\" >7</th>        <th class=\"col_heading level0 col8\" >8</th>        <th class=\"col_heading level0 col9\" >9</th>        <th class=\"col_heading level0 col10\" >10</th>        <th class=\"col_heading level0 col11\" >11</th>        <th class=\"col_heading level0 col12\" >12</th>        <th class=\"col_heading level0 col13\" >13</th>    </tr></thead><tbody>\n",
              "                <tr>\n",
              "                        <th id=\"T_67b7a786_900d_11eb_bfc8_0242ac1c0002level0_row0\" class=\"row_heading level0 row0\" >0</th>\n",
              "                        <td id=\"T_67b7a786_900d_11eb_bfc8_0242ac1c0002row0_col0\" class=\"data row0 col0\" >0</td>\n",
              "                        <td id=\"T_67b7a786_900d_11eb_bfc8_0242ac1c0002row0_col1\" class=\"data row0 col1\" >0</td>\n",
              "                        <td id=\"T_67b7a786_900d_11eb_bfc8_0242ac1c0002row0_col2\" class=\"data row0 col2\" >0</td>\n",
              "                        <td id=\"T_67b7a786_900d_11eb_bfc8_0242ac1c0002row0_col3\" class=\"data row0 col3\" >0</td>\n",
              "                        <td id=\"T_67b7a786_900d_11eb_bfc8_0242ac1c0002row0_col4\" class=\"data row0 col4\" >0</td>\n",
              "                        <td id=\"T_67b7a786_900d_11eb_bfc8_0242ac1c0002row0_col5\" class=\"data row0 col5\" >0</td>\n",
              "                        <td id=\"T_67b7a786_900d_11eb_bfc8_0242ac1c0002row0_col6\" class=\"data row0 col6\" >0</td>\n",
              "                        <td id=\"T_67b7a786_900d_11eb_bfc8_0242ac1c0002row0_col7\" class=\"data row0 col7\" >0</td>\n",
              "                        <td id=\"T_67b7a786_900d_11eb_bfc8_0242ac1c0002row0_col8\" class=\"data row0 col8\" >79</td>\n",
              "                        <td id=\"T_67b7a786_900d_11eb_bfc8_0242ac1c0002row0_col9\" class=\"data row0 col9\" >229</td>\n",
              "                        <td id=\"T_67b7a786_900d_11eb_bfc8_0242ac1c0002row0_col10\" class=\"data row0 col10\" >231</td>\n",
              "                        <td id=\"T_67b7a786_900d_11eb_bfc8_0242ac1c0002row0_col11\" class=\"data row0 col11\" >56</td>\n",
              "                        <td id=\"T_67b7a786_900d_11eb_bfc8_0242ac1c0002row0_col12\" class=\"data row0 col12\" >0</td>\n",
              "                        <td id=\"T_67b7a786_900d_11eb_bfc8_0242ac1c0002row0_col13\" class=\"data row0 col13\" >0</td>\n",
              "            </tr>\n",
              "            <tr>\n",
              "                        <th id=\"T_67b7a786_900d_11eb_bfc8_0242ac1c0002level0_row1\" class=\"row_heading level0 row1\" >1</th>\n",
              "                        <td id=\"T_67b7a786_900d_11eb_bfc8_0242ac1c0002row1_col0\" class=\"data row1 col0\" >0</td>\n",
              "                        <td id=\"T_67b7a786_900d_11eb_bfc8_0242ac1c0002row1_col1\" class=\"data row1 col1\" >0</td>\n",
              "                        <td id=\"T_67b7a786_900d_11eb_bfc8_0242ac1c0002row1_col2\" class=\"data row1 col2\" >0</td>\n",
              "                        <td id=\"T_67b7a786_900d_11eb_bfc8_0242ac1c0002row1_col3\" class=\"data row1 col3\" >0</td>\n",
              "                        <td id=\"T_67b7a786_900d_11eb_bfc8_0242ac1c0002row1_col4\" class=\"data row1 col4\" >0</td>\n",
              "                        <td id=\"T_67b7a786_900d_11eb_bfc8_0242ac1c0002row1_col5\" class=\"data row1 col5\" >0</td>\n",
              "                        <td id=\"T_67b7a786_900d_11eb_bfc8_0242ac1c0002row1_col6\" class=\"data row1 col6\" >0</td>\n",
              "                        <td id=\"T_67b7a786_900d_11eb_bfc8_0242ac1c0002row1_col7\" class=\"data row1 col7\" >48</td>\n",
              "                        <td id=\"T_67b7a786_900d_11eb_bfc8_0242ac1c0002row1_col8\" class=\"data row1 col8\" >247</td>\n",
              "                        <td id=\"T_67b7a786_900d_11eb_bfc8_0242ac1c0002row1_col9\" class=\"data row1 col9\" >246</td>\n",
              "                        <td id=\"T_67b7a786_900d_11eb_bfc8_0242ac1c0002row1_col10\" class=\"data row1 col10\" >88</td>\n",
              "                        <td id=\"T_67b7a786_900d_11eb_bfc8_0242ac1c0002row1_col11\" class=\"data row1 col11\" >0</td>\n",
              "                        <td id=\"T_67b7a786_900d_11eb_bfc8_0242ac1c0002row1_col12\" class=\"data row1 col12\" >0</td>\n",
              "                        <td id=\"T_67b7a786_900d_11eb_bfc8_0242ac1c0002row1_col13\" class=\"data row1 col13\" >0</td>\n",
              "            </tr>\n",
              "            <tr>\n",
              "                        <th id=\"T_67b7a786_900d_11eb_bfc8_0242ac1c0002level0_row2\" class=\"row_heading level0 row2\" >2</th>\n",
              "                        <td id=\"T_67b7a786_900d_11eb_bfc8_0242ac1c0002row2_col0\" class=\"data row2 col0\" >0</td>\n",
              "                        <td id=\"T_67b7a786_900d_11eb_bfc8_0242ac1c0002row2_col1\" class=\"data row2 col1\" >0</td>\n",
              "                        <td id=\"T_67b7a786_900d_11eb_bfc8_0242ac1c0002row2_col2\" class=\"data row2 col2\" >0</td>\n",
              "                        <td id=\"T_67b7a786_900d_11eb_bfc8_0242ac1c0002row2_col3\" class=\"data row2 col3\" >0</td>\n",
              "                        <td id=\"T_67b7a786_900d_11eb_bfc8_0242ac1c0002row2_col4\" class=\"data row2 col4\" >0</td>\n",
              "                        <td id=\"T_67b7a786_900d_11eb_bfc8_0242ac1c0002row2_col5\" class=\"data row2 col5\" >0</td>\n",
              "                        <td id=\"T_67b7a786_900d_11eb_bfc8_0242ac1c0002row2_col6\" class=\"data row2 col6\" >8</td>\n",
              "                        <td id=\"T_67b7a786_900d_11eb_bfc8_0242ac1c0002row2_col7\" class=\"data row2 col7\" >194</td>\n",
              "                        <td id=\"T_67b7a786_900d_11eb_bfc8_0242ac1c0002row2_col8\" class=\"data row2 col8\" >245</td>\n",
              "                        <td id=\"T_67b7a786_900d_11eb_bfc8_0242ac1c0002row2_col9\" class=\"data row2 col9\" >95</td>\n",
              "                        <td id=\"T_67b7a786_900d_11eb_bfc8_0242ac1c0002row2_col10\" class=\"data row2 col10\" >0</td>\n",
              "                        <td id=\"T_67b7a786_900d_11eb_bfc8_0242ac1c0002row2_col11\" class=\"data row2 col11\" >0</td>\n",
              "                        <td id=\"T_67b7a786_900d_11eb_bfc8_0242ac1c0002row2_col12\" class=\"data row2 col12\" >0</td>\n",
              "                        <td id=\"T_67b7a786_900d_11eb_bfc8_0242ac1c0002row2_col13\" class=\"data row2 col13\" >0</td>\n",
              "            </tr>\n",
              "            <tr>\n",
              "                        <th id=\"T_67b7a786_900d_11eb_bfc8_0242ac1c0002level0_row3\" class=\"row_heading level0 row3\" >3</th>\n",
              "                        <td id=\"T_67b7a786_900d_11eb_bfc8_0242ac1c0002row3_col0\" class=\"data row3 col0\" >0</td>\n",
              "                        <td id=\"T_67b7a786_900d_11eb_bfc8_0242ac1c0002row3_col1\" class=\"data row3 col1\" >0</td>\n",
              "                        <td id=\"T_67b7a786_900d_11eb_bfc8_0242ac1c0002row3_col2\" class=\"data row3 col2\" >0</td>\n",
              "                        <td id=\"T_67b7a786_900d_11eb_bfc8_0242ac1c0002row3_col3\" class=\"data row3 col3\" >0</td>\n",
              "                        <td id=\"T_67b7a786_900d_11eb_bfc8_0242ac1c0002row3_col4\" class=\"data row3 col4\" >0</td>\n",
              "                        <td id=\"T_67b7a786_900d_11eb_bfc8_0242ac1c0002row3_col5\" class=\"data row3 col5\" >32</td>\n",
              "                        <td id=\"T_67b7a786_900d_11eb_bfc8_0242ac1c0002row3_col6\" class=\"data row3 col6\" >197</td>\n",
              "                        <td id=\"T_67b7a786_900d_11eb_bfc8_0242ac1c0002row3_col7\" class=\"data row3 col7\" >252</td>\n",
              "                        <td id=\"T_67b7a786_900d_11eb_bfc8_0242ac1c0002row3_col8\" class=\"data row3 col8\" >73</td>\n",
              "                        <td id=\"T_67b7a786_900d_11eb_bfc8_0242ac1c0002row3_col9\" class=\"data row3 col9\" >0</td>\n",
              "                        <td id=\"T_67b7a786_900d_11eb_bfc8_0242ac1c0002row3_col10\" class=\"data row3 col10\" >0</td>\n",
              "                        <td id=\"T_67b7a786_900d_11eb_bfc8_0242ac1c0002row3_col11\" class=\"data row3 col11\" >0</td>\n",
              "                        <td id=\"T_67b7a786_900d_11eb_bfc8_0242ac1c0002row3_col12\" class=\"data row3 col12\" >0</td>\n",
              "                        <td id=\"T_67b7a786_900d_11eb_bfc8_0242ac1c0002row3_col13\" class=\"data row3 col13\" >0</td>\n",
              "            </tr>\n",
              "            <tr>\n",
              "                        <th id=\"T_67b7a786_900d_11eb_bfc8_0242ac1c0002level0_row4\" class=\"row_heading level0 row4\" >4</th>\n",
              "                        <td id=\"T_67b7a786_900d_11eb_bfc8_0242ac1c0002row4_col0\" class=\"data row4 col0\" >0</td>\n",
              "                        <td id=\"T_67b7a786_900d_11eb_bfc8_0242ac1c0002row4_col1\" class=\"data row4 col1\" >0</td>\n",
              "                        <td id=\"T_67b7a786_900d_11eb_bfc8_0242ac1c0002row4_col2\" class=\"data row4 col2\" >0</td>\n",
              "                        <td id=\"T_67b7a786_900d_11eb_bfc8_0242ac1c0002row4_col3\" class=\"data row4 col3\" >0</td>\n",
              "                        <td id=\"T_67b7a786_900d_11eb_bfc8_0242ac1c0002row4_col4\" class=\"data row4 col4\" >25</td>\n",
              "                        <td id=\"T_67b7a786_900d_11eb_bfc8_0242ac1c0002row4_col5\" class=\"data row4 col5\" >167</td>\n",
              "                        <td id=\"T_67b7a786_900d_11eb_bfc8_0242ac1c0002row4_col6\" class=\"data row4 col6\" >254</td>\n",
              "                        <td id=\"T_67b7a786_900d_11eb_bfc8_0242ac1c0002row4_col7\" class=\"data row4 col7\" >138</td>\n",
              "                        <td id=\"T_67b7a786_900d_11eb_bfc8_0242ac1c0002row4_col8\" class=\"data row4 col8\" >0</td>\n",
              "                        <td id=\"T_67b7a786_900d_11eb_bfc8_0242ac1c0002row4_col9\" class=\"data row4 col9\" >0</td>\n",
              "                        <td id=\"T_67b7a786_900d_11eb_bfc8_0242ac1c0002row4_col10\" class=\"data row4 col10\" >0</td>\n",
              "                        <td id=\"T_67b7a786_900d_11eb_bfc8_0242ac1c0002row4_col11\" class=\"data row4 col11\" >0</td>\n",
              "                        <td id=\"T_67b7a786_900d_11eb_bfc8_0242ac1c0002row4_col12\" class=\"data row4 col12\" >0</td>\n",
              "                        <td id=\"T_67b7a786_900d_11eb_bfc8_0242ac1c0002row4_col13\" class=\"data row4 col13\" >0</td>\n",
              "            </tr>\n",
              "            <tr>\n",
              "                        <th id=\"T_67b7a786_900d_11eb_bfc8_0242ac1c0002level0_row5\" class=\"row_heading level0 row5\" >5</th>\n",
              "                        <td id=\"T_67b7a786_900d_11eb_bfc8_0242ac1c0002row5_col0\" class=\"data row5 col0\" >0</td>\n",
              "                        <td id=\"T_67b7a786_900d_11eb_bfc8_0242ac1c0002row5_col1\" class=\"data row5 col1\" >0</td>\n",
              "                        <td id=\"T_67b7a786_900d_11eb_bfc8_0242ac1c0002row5_col2\" class=\"data row5 col2\" >0</td>\n",
              "                        <td id=\"T_67b7a786_900d_11eb_bfc8_0242ac1c0002row5_col3\" class=\"data row5 col3\" >7</td>\n",
              "                        <td id=\"T_67b7a786_900d_11eb_bfc8_0242ac1c0002row5_col4\" class=\"data row5 col4\" >178</td>\n",
              "                        <td id=\"T_67b7a786_900d_11eb_bfc8_0242ac1c0002row5_col5\" class=\"data row5 col5\" >254</td>\n",
              "                        <td id=\"T_67b7a786_900d_11eb_bfc8_0242ac1c0002row5_col6\" class=\"data row5 col6\" >142</td>\n",
              "                        <td id=\"T_67b7a786_900d_11eb_bfc8_0242ac1c0002row5_col7\" class=\"data row5 col7\" >2</td>\n",
              "                        <td id=\"T_67b7a786_900d_11eb_bfc8_0242ac1c0002row5_col8\" class=\"data row5 col8\" >0</td>\n",
              "                        <td id=\"T_67b7a786_900d_11eb_bfc8_0242ac1c0002row5_col9\" class=\"data row5 col9\" >0</td>\n",
              "                        <td id=\"T_67b7a786_900d_11eb_bfc8_0242ac1c0002row5_col10\" class=\"data row5 col10\" >0</td>\n",
              "                        <td id=\"T_67b7a786_900d_11eb_bfc8_0242ac1c0002row5_col11\" class=\"data row5 col11\" >0</td>\n",
              "                        <td id=\"T_67b7a786_900d_11eb_bfc8_0242ac1c0002row5_col12\" class=\"data row5 col12\" >0</td>\n",
              "                        <td id=\"T_67b7a786_900d_11eb_bfc8_0242ac1c0002row5_col13\" class=\"data row5 col13\" >0</td>\n",
              "            </tr>\n",
              "            <tr>\n",
              "                        <th id=\"T_67b7a786_900d_11eb_bfc8_0242ac1c0002level0_row6\" class=\"row_heading level0 row6\" >6</th>\n",
              "                        <td id=\"T_67b7a786_900d_11eb_bfc8_0242ac1c0002row6_col0\" class=\"data row6 col0\" >0</td>\n",
              "                        <td id=\"T_67b7a786_900d_11eb_bfc8_0242ac1c0002row6_col1\" class=\"data row6 col1\" >0</td>\n",
              "                        <td id=\"T_67b7a786_900d_11eb_bfc8_0242ac1c0002row6_col2\" class=\"data row6 col2\" >0</td>\n",
              "                        <td id=\"T_67b7a786_900d_11eb_bfc8_0242ac1c0002row6_col3\" class=\"data row6 col3\" >62</td>\n",
              "                        <td id=\"T_67b7a786_900d_11eb_bfc8_0242ac1c0002row6_col4\" class=\"data row6 col4\" >254</td>\n",
              "                        <td id=\"T_67b7a786_900d_11eb_bfc8_0242ac1c0002row6_col5\" class=\"data row6 col5\" >254</td>\n",
              "                        <td id=\"T_67b7a786_900d_11eb_bfc8_0242ac1c0002row6_col6\" class=\"data row6 col6\" >36</td>\n",
              "                        <td id=\"T_67b7a786_900d_11eb_bfc8_0242ac1c0002row6_col7\" class=\"data row6 col7\" >0</td>\n",
              "                        <td id=\"T_67b7a786_900d_11eb_bfc8_0242ac1c0002row6_col8\" class=\"data row6 col8\" >0</td>\n",
              "                        <td id=\"T_67b7a786_900d_11eb_bfc8_0242ac1c0002row6_col9\" class=\"data row6 col9\" >0</td>\n",
              "                        <td id=\"T_67b7a786_900d_11eb_bfc8_0242ac1c0002row6_col10\" class=\"data row6 col10\" >0</td>\n",
              "                        <td id=\"T_67b7a786_900d_11eb_bfc8_0242ac1c0002row6_col11\" class=\"data row6 col11\" >0</td>\n",
              "                        <td id=\"T_67b7a786_900d_11eb_bfc8_0242ac1c0002row6_col12\" class=\"data row6 col12\" >0</td>\n",
              "                        <td id=\"T_67b7a786_900d_11eb_bfc8_0242ac1c0002row6_col13\" class=\"data row6 col13\" >0</td>\n",
              "            </tr>\n",
              "            <tr>\n",
              "                        <th id=\"T_67b7a786_900d_11eb_bfc8_0242ac1c0002level0_row7\" class=\"row_heading level0 row7\" >7</th>\n",
              "                        <td id=\"T_67b7a786_900d_11eb_bfc8_0242ac1c0002row7_col0\" class=\"data row7 col0\" >0</td>\n",
              "                        <td id=\"T_67b7a786_900d_11eb_bfc8_0242ac1c0002row7_col1\" class=\"data row7 col1\" >0</td>\n",
              "                        <td id=\"T_67b7a786_900d_11eb_bfc8_0242ac1c0002row7_col2\" class=\"data row7 col2\" >0</td>\n",
              "                        <td id=\"T_67b7a786_900d_11eb_bfc8_0242ac1c0002row7_col3\" class=\"data row7 col3\" >122</td>\n",
              "                        <td id=\"T_67b7a786_900d_11eb_bfc8_0242ac1c0002row7_col4\" class=\"data row7 col4\" >254</td>\n",
              "                        <td id=\"T_67b7a786_900d_11eb_bfc8_0242ac1c0002row7_col5\" class=\"data row7 col5\" >176</td>\n",
              "                        <td id=\"T_67b7a786_900d_11eb_bfc8_0242ac1c0002row7_col6\" class=\"data row7 col6\" >57</td>\n",
              "                        <td id=\"T_67b7a786_900d_11eb_bfc8_0242ac1c0002row7_col7\" class=\"data row7 col7\" >36</td>\n",
              "                        <td id=\"T_67b7a786_900d_11eb_bfc8_0242ac1c0002row7_col8\" class=\"data row7 col8\" >20</td>\n",
              "                        <td id=\"T_67b7a786_900d_11eb_bfc8_0242ac1c0002row7_col9\" class=\"data row7 col9\" >0</td>\n",
              "                        <td id=\"T_67b7a786_900d_11eb_bfc8_0242ac1c0002row7_col10\" class=\"data row7 col10\" >0</td>\n",
              "                        <td id=\"T_67b7a786_900d_11eb_bfc8_0242ac1c0002row7_col11\" class=\"data row7 col11\" >0</td>\n",
              "                        <td id=\"T_67b7a786_900d_11eb_bfc8_0242ac1c0002row7_col12\" class=\"data row7 col12\" >0</td>\n",
              "                        <td id=\"T_67b7a786_900d_11eb_bfc8_0242ac1c0002row7_col13\" class=\"data row7 col13\" >0</td>\n",
              "            </tr>\n",
              "            <tr>\n",
              "                        <th id=\"T_67b7a786_900d_11eb_bfc8_0242ac1c0002level0_row8\" class=\"row_heading level0 row8\" >8</th>\n",
              "                        <td id=\"T_67b7a786_900d_11eb_bfc8_0242ac1c0002row8_col0\" class=\"data row8 col0\" >0</td>\n",
              "                        <td id=\"T_67b7a786_900d_11eb_bfc8_0242ac1c0002row8_col1\" class=\"data row8 col1\" >0</td>\n",
              "                        <td id=\"T_67b7a786_900d_11eb_bfc8_0242ac1c0002row8_col2\" class=\"data row8 col2\" >40</td>\n",
              "                        <td id=\"T_67b7a786_900d_11eb_bfc8_0242ac1c0002row8_col3\" class=\"data row8 col3\" >247</td>\n",
              "                        <td id=\"T_67b7a786_900d_11eb_bfc8_0242ac1c0002row8_col4\" class=\"data row8 col4\" >254</td>\n",
              "                        <td id=\"T_67b7a786_900d_11eb_bfc8_0242ac1c0002row8_col5\" class=\"data row8 col5\" >254</td>\n",
              "                        <td id=\"T_67b7a786_900d_11eb_bfc8_0242ac1c0002row8_col6\" class=\"data row8 col6\" >254</td>\n",
              "                        <td id=\"T_67b7a786_900d_11eb_bfc8_0242ac1c0002row8_col7\" class=\"data row8 col7\" >254</td>\n",
              "                        <td id=\"T_67b7a786_900d_11eb_bfc8_0242ac1c0002row8_col8\" class=\"data row8 col8\" >238</td>\n",
              "                        <td id=\"T_67b7a786_900d_11eb_bfc8_0242ac1c0002row8_col9\" class=\"data row8 col9\" >152</td>\n",
              "                        <td id=\"T_67b7a786_900d_11eb_bfc8_0242ac1c0002row8_col10\" class=\"data row8 col10\" >40</td>\n",
              "                        <td id=\"T_67b7a786_900d_11eb_bfc8_0242ac1c0002row8_col11\" class=\"data row8 col11\" >0</td>\n",
              "                        <td id=\"T_67b7a786_900d_11eb_bfc8_0242ac1c0002row8_col12\" class=\"data row8 col12\" >0</td>\n",
              "                        <td id=\"T_67b7a786_900d_11eb_bfc8_0242ac1c0002row8_col13\" class=\"data row8 col13\" >0</td>\n",
              "            </tr>\n",
              "            <tr>\n",
              "                        <th id=\"T_67b7a786_900d_11eb_bfc8_0242ac1c0002level0_row9\" class=\"row_heading level0 row9\" >9</th>\n",
              "                        <td id=\"T_67b7a786_900d_11eb_bfc8_0242ac1c0002row9_col0\" class=\"data row9 col0\" >0</td>\n",
              "                        <td id=\"T_67b7a786_900d_11eb_bfc8_0242ac1c0002row9_col1\" class=\"data row9 col1\" >0</td>\n",
              "                        <td id=\"T_67b7a786_900d_11eb_bfc8_0242ac1c0002row9_col2\" class=\"data row9 col2\" >158</td>\n",
              "                        <td id=\"T_67b7a786_900d_11eb_bfc8_0242ac1c0002row9_col3\" class=\"data row9 col3\" >254</td>\n",
              "                        <td id=\"T_67b7a786_900d_11eb_bfc8_0242ac1c0002row9_col4\" class=\"data row9 col4\" >254</td>\n",
              "                        <td id=\"T_67b7a786_900d_11eb_bfc8_0242ac1c0002row9_col5\" class=\"data row9 col5\" >178</td>\n",
              "                        <td id=\"T_67b7a786_900d_11eb_bfc8_0242ac1c0002row9_col6\" class=\"data row9 col6\" >109</td>\n",
              "                        <td id=\"T_67b7a786_900d_11eb_bfc8_0242ac1c0002row9_col7\" class=\"data row9 col7\" >109</td>\n",
              "                        <td id=\"T_67b7a786_900d_11eb_bfc8_0242ac1c0002row9_col8\" class=\"data row9 col8\" >100</td>\n",
              "                        <td id=\"T_67b7a786_900d_11eb_bfc8_0242ac1c0002row9_col9\" class=\"data row9 col9\" >217</td>\n",
              "                        <td id=\"T_67b7a786_900d_11eb_bfc8_0242ac1c0002row9_col10\" class=\"data row9 col10\" >221</td>\n",
              "                        <td id=\"T_67b7a786_900d_11eb_bfc8_0242ac1c0002row9_col11\" class=\"data row9 col11\" >48</td>\n",
              "                        <td id=\"T_67b7a786_900d_11eb_bfc8_0242ac1c0002row9_col12\" class=\"data row9 col12\" >0</td>\n",
              "                        <td id=\"T_67b7a786_900d_11eb_bfc8_0242ac1c0002row9_col13\" class=\"data row9 col13\" >0</td>\n",
              "            </tr>\n",
              "            <tr>\n",
              "                        <th id=\"T_67b7a786_900d_11eb_bfc8_0242ac1c0002level0_row10\" class=\"row_heading level0 row10\" >10</th>\n",
              "                        <td id=\"T_67b7a786_900d_11eb_bfc8_0242ac1c0002row10_col0\" class=\"data row10 col0\" >0</td>\n",
              "                        <td id=\"T_67b7a786_900d_11eb_bfc8_0242ac1c0002row10_col1\" class=\"data row10 col1\" >44</td>\n",
              "                        <td id=\"T_67b7a786_900d_11eb_bfc8_0242ac1c0002row10_col2\" class=\"data row10 col2\" >242</td>\n",
              "                        <td id=\"T_67b7a786_900d_11eb_bfc8_0242ac1c0002row10_col3\" class=\"data row10 col3\" >234</td>\n",
              "                        <td id=\"T_67b7a786_900d_11eb_bfc8_0242ac1c0002row10_col4\" class=\"data row10 col4\" >95</td>\n",
              "                        <td id=\"T_67b7a786_900d_11eb_bfc8_0242ac1c0002row10_col5\" class=\"data row10 col5\" >5</td>\n",
              "                        <td id=\"T_67b7a786_900d_11eb_bfc8_0242ac1c0002row10_col6\" class=\"data row10 col6\" >0</td>\n",
              "                        <td id=\"T_67b7a786_900d_11eb_bfc8_0242ac1c0002row10_col7\" class=\"data row10 col7\" >0</td>\n",
              "                        <td id=\"T_67b7a786_900d_11eb_bfc8_0242ac1c0002row10_col8\" class=\"data row10 col8\" >0</td>\n",
              "                        <td id=\"T_67b7a786_900d_11eb_bfc8_0242ac1c0002row10_col9\" class=\"data row10 col9\" >80</td>\n",
              "                        <td id=\"T_67b7a786_900d_11eb_bfc8_0242ac1c0002row10_col10\" class=\"data row10 col10\" >254</td>\n",
              "                        <td id=\"T_67b7a786_900d_11eb_bfc8_0242ac1c0002row10_col11\" class=\"data row10 col11\" >116</td>\n",
              "                        <td id=\"T_67b7a786_900d_11eb_bfc8_0242ac1c0002row10_col12\" class=\"data row10 col12\" >0</td>\n",
              "                        <td id=\"T_67b7a786_900d_11eb_bfc8_0242ac1c0002row10_col13\" class=\"data row10 col13\" >0</td>\n",
              "            </tr>\n",
              "            <tr>\n",
              "                        <th id=\"T_67b7a786_900d_11eb_bfc8_0242ac1c0002level0_row11\" class=\"row_heading level0 row11\" >11</th>\n",
              "                        <td id=\"T_67b7a786_900d_11eb_bfc8_0242ac1c0002row11_col0\" class=\"data row11 col0\" >0</td>\n",
              "                        <td id=\"T_67b7a786_900d_11eb_bfc8_0242ac1c0002row11_col1\" class=\"data row11 col1\" >197</td>\n",
              "                        <td id=\"T_67b7a786_900d_11eb_bfc8_0242ac1c0002row11_col2\" class=\"data row11 col2\" >254</td>\n",
              "                        <td id=\"T_67b7a786_900d_11eb_bfc8_0242ac1c0002row11_col3\" class=\"data row11 col3\" >125</td>\n",
              "                        <td id=\"T_67b7a786_900d_11eb_bfc8_0242ac1c0002row11_col4\" class=\"data row11 col4\" >0</td>\n",
              "                        <td id=\"T_67b7a786_900d_11eb_bfc8_0242ac1c0002row11_col5\" class=\"data row11 col5\" >0</td>\n",
              "                        <td id=\"T_67b7a786_900d_11eb_bfc8_0242ac1c0002row11_col6\" class=\"data row11 col6\" >0</td>\n",
              "                        <td id=\"T_67b7a786_900d_11eb_bfc8_0242ac1c0002row11_col7\" class=\"data row11 col7\" >0</td>\n",
              "                        <td id=\"T_67b7a786_900d_11eb_bfc8_0242ac1c0002row11_col8\" class=\"data row11 col8\" >0</td>\n",
              "                        <td id=\"T_67b7a786_900d_11eb_bfc8_0242ac1c0002row11_col9\" class=\"data row11 col9\" >11</td>\n",
              "                        <td id=\"T_67b7a786_900d_11eb_bfc8_0242ac1c0002row11_col10\" class=\"data row11 col10\" >254</td>\n",
              "                        <td id=\"T_67b7a786_900d_11eb_bfc8_0242ac1c0002row11_col11\" class=\"data row11 col11\" >164</td>\n",
              "                        <td id=\"T_67b7a786_900d_11eb_bfc8_0242ac1c0002row11_col12\" class=\"data row11 col12\" >0</td>\n",
              "                        <td id=\"T_67b7a786_900d_11eb_bfc8_0242ac1c0002row11_col13\" class=\"data row11 col13\" >0</td>\n",
              "            </tr>\n",
              "            <tr>\n",
              "                        <th id=\"T_67b7a786_900d_11eb_bfc8_0242ac1c0002level0_row12\" class=\"row_heading level0 row12\" >12</th>\n",
              "                        <td id=\"T_67b7a786_900d_11eb_bfc8_0242ac1c0002row12_col0\" class=\"data row12 col0\" >0</td>\n",
              "                        <td id=\"T_67b7a786_900d_11eb_bfc8_0242ac1c0002row12_col1\" class=\"data row12 col1\" >197</td>\n",
              "                        <td id=\"T_67b7a786_900d_11eb_bfc8_0242ac1c0002row12_col2\" class=\"data row12 col2\" >234</td>\n",
              "                        <td id=\"T_67b7a786_900d_11eb_bfc8_0242ac1c0002row12_col3\" class=\"data row12 col3\" >5</td>\n",
              "                        <td id=\"T_67b7a786_900d_11eb_bfc8_0242ac1c0002row12_col4\" class=\"data row12 col4\" >0</td>\n",
              "                        <td id=\"T_67b7a786_900d_11eb_bfc8_0242ac1c0002row12_col5\" class=\"data row12 col5\" >0</td>\n",
              "                        <td id=\"T_67b7a786_900d_11eb_bfc8_0242ac1c0002row12_col6\" class=\"data row12 col6\" >0</td>\n",
              "                        <td id=\"T_67b7a786_900d_11eb_bfc8_0242ac1c0002row12_col7\" class=\"data row12 col7\" >0</td>\n",
              "                        <td id=\"T_67b7a786_900d_11eb_bfc8_0242ac1c0002row12_col8\" class=\"data row12 col8\" >0</td>\n",
              "                        <td id=\"T_67b7a786_900d_11eb_bfc8_0242ac1c0002row12_col9\" class=\"data row12 col9\" >37</td>\n",
              "                        <td id=\"T_67b7a786_900d_11eb_bfc8_0242ac1c0002row12_col10\" class=\"data row12 col10\" >254</td>\n",
              "                        <td id=\"T_67b7a786_900d_11eb_bfc8_0242ac1c0002row12_col11\" class=\"data row12 col11\" >164</td>\n",
              "                        <td id=\"T_67b7a786_900d_11eb_bfc8_0242ac1c0002row12_col12\" class=\"data row12 col12\" >0</td>\n",
              "                        <td id=\"T_67b7a786_900d_11eb_bfc8_0242ac1c0002row12_col13\" class=\"data row12 col13\" >0</td>\n",
              "            </tr>\n",
              "            <tr>\n",
              "                        <th id=\"T_67b7a786_900d_11eb_bfc8_0242ac1c0002level0_row13\" class=\"row_heading level0 row13\" >13</th>\n",
              "                        <td id=\"T_67b7a786_900d_11eb_bfc8_0242ac1c0002row13_col0\" class=\"data row13 col0\" >0</td>\n",
              "                        <td id=\"T_67b7a786_900d_11eb_bfc8_0242ac1c0002row13_col1\" class=\"data row13 col1\" >197</td>\n",
              "                        <td id=\"T_67b7a786_900d_11eb_bfc8_0242ac1c0002row13_col2\" class=\"data row13 col2\" >232</td>\n",
              "                        <td id=\"T_67b7a786_900d_11eb_bfc8_0242ac1c0002row13_col3\" class=\"data row13 col3\" >0</td>\n",
              "                        <td id=\"T_67b7a786_900d_11eb_bfc8_0242ac1c0002row13_col4\" class=\"data row13 col4\" >0</td>\n",
              "                        <td id=\"T_67b7a786_900d_11eb_bfc8_0242ac1c0002row13_col5\" class=\"data row13 col5\" >0</td>\n",
              "                        <td id=\"T_67b7a786_900d_11eb_bfc8_0242ac1c0002row13_col6\" class=\"data row13 col6\" >0</td>\n",
              "                        <td id=\"T_67b7a786_900d_11eb_bfc8_0242ac1c0002row13_col7\" class=\"data row13 col7\" >0</td>\n",
              "                        <td id=\"T_67b7a786_900d_11eb_bfc8_0242ac1c0002row13_col8\" class=\"data row13 col8\" >0</td>\n",
              "                        <td id=\"T_67b7a786_900d_11eb_bfc8_0242ac1c0002row13_col9\" class=\"data row13 col9\" >83</td>\n",
              "                        <td id=\"T_67b7a786_900d_11eb_bfc8_0242ac1c0002row13_col10\" class=\"data row13 col10\" >254</td>\n",
              "                        <td id=\"T_67b7a786_900d_11eb_bfc8_0242ac1c0002row13_col11\" class=\"data row13 col11\" >148</td>\n",
              "                        <td id=\"T_67b7a786_900d_11eb_bfc8_0242ac1c0002row13_col12\" class=\"data row13 col12\" >0</td>\n",
              "                        <td id=\"T_67b7a786_900d_11eb_bfc8_0242ac1c0002row13_col13\" class=\"data row13 col13\" >0</td>\n",
              "            </tr>\n",
              "            <tr>\n",
              "                        <th id=\"T_67b7a786_900d_11eb_bfc8_0242ac1c0002level0_row14\" class=\"row_heading level0 row14\" >14</th>\n",
              "                        <td id=\"T_67b7a786_900d_11eb_bfc8_0242ac1c0002row14_col0\" class=\"data row14 col0\" >0</td>\n",
              "                        <td id=\"T_67b7a786_900d_11eb_bfc8_0242ac1c0002row14_col1\" class=\"data row14 col1\" >197</td>\n",
              "                        <td id=\"T_67b7a786_900d_11eb_bfc8_0242ac1c0002row14_col2\" class=\"data row14 col2\" >234</td>\n",
              "                        <td id=\"T_67b7a786_900d_11eb_bfc8_0242ac1c0002row14_col3\" class=\"data row14 col3\" >5</td>\n",
              "                        <td id=\"T_67b7a786_900d_11eb_bfc8_0242ac1c0002row14_col4\" class=\"data row14 col4\" >0</td>\n",
              "                        <td id=\"T_67b7a786_900d_11eb_bfc8_0242ac1c0002row14_col5\" class=\"data row14 col5\" >0</td>\n",
              "                        <td id=\"T_67b7a786_900d_11eb_bfc8_0242ac1c0002row14_col6\" class=\"data row14 col6\" >0</td>\n",
              "                        <td id=\"T_67b7a786_900d_11eb_bfc8_0242ac1c0002row14_col7\" class=\"data row14 col7\" >0</td>\n",
              "                        <td id=\"T_67b7a786_900d_11eb_bfc8_0242ac1c0002row14_col8\" class=\"data row14 col8\" >5</td>\n",
              "                        <td id=\"T_67b7a786_900d_11eb_bfc8_0242ac1c0002row14_col9\" class=\"data row14 col9\" >160</td>\n",
              "                        <td id=\"T_67b7a786_900d_11eb_bfc8_0242ac1c0002row14_col10\" class=\"data row14 col10\" >254</td>\n",
              "                        <td id=\"T_67b7a786_900d_11eb_bfc8_0242ac1c0002row14_col11\" class=\"data row14 col11\" >66</td>\n",
              "                        <td id=\"T_67b7a786_900d_11eb_bfc8_0242ac1c0002row14_col12\" class=\"data row14 col12\" >0</td>\n",
              "                        <td id=\"T_67b7a786_900d_11eb_bfc8_0242ac1c0002row14_col13\" class=\"data row14 col13\" >0</td>\n",
              "            </tr>\n",
              "            <tr>\n",
              "                        <th id=\"T_67b7a786_900d_11eb_bfc8_0242ac1c0002level0_row15\" class=\"row_heading level0 row15\" >15</th>\n",
              "                        <td id=\"T_67b7a786_900d_11eb_bfc8_0242ac1c0002row15_col0\" class=\"data row15 col0\" >0</td>\n",
              "                        <td id=\"T_67b7a786_900d_11eb_bfc8_0242ac1c0002row15_col1\" class=\"data row15 col1\" >107</td>\n",
              "                        <td id=\"T_67b7a786_900d_11eb_bfc8_0242ac1c0002row15_col2\" class=\"data row15 col2\" >249</td>\n",
              "                        <td id=\"T_67b7a786_900d_11eb_bfc8_0242ac1c0002row15_col3\" class=\"data row15 col3\" >182</td>\n",
              "                        <td id=\"T_67b7a786_900d_11eb_bfc8_0242ac1c0002row15_col4\" class=\"data row15 col4\" >40</td>\n",
              "                        <td id=\"T_67b7a786_900d_11eb_bfc8_0242ac1c0002row15_col5\" class=\"data row15 col5\" >0</td>\n",
              "                        <td id=\"T_67b7a786_900d_11eb_bfc8_0242ac1c0002row15_col6\" class=\"data row15 col6\" >0</td>\n",
              "                        <td id=\"T_67b7a786_900d_11eb_bfc8_0242ac1c0002row15_col7\" class=\"data row15 col7\" >57</td>\n",
              "                        <td id=\"T_67b7a786_900d_11eb_bfc8_0242ac1c0002row15_col8\" class=\"data row15 col8\" >176</td>\n",
              "                        <td id=\"T_67b7a786_900d_11eb_bfc8_0242ac1c0002row15_col9\" class=\"data row15 col9\" >254</td>\n",
              "                        <td id=\"T_67b7a786_900d_11eb_bfc8_0242ac1c0002row15_col10\" class=\"data row15 col10\" >156</td>\n",
              "                        <td id=\"T_67b7a786_900d_11eb_bfc8_0242ac1c0002row15_col11\" class=\"data row15 col11\" >4</td>\n",
              "                        <td id=\"T_67b7a786_900d_11eb_bfc8_0242ac1c0002row15_col12\" class=\"data row15 col12\" >0</td>\n",
              "                        <td id=\"T_67b7a786_900d_11eb_bfc8_0242ac1c0002row15_col13\" class=\"data row15 col13\" >0</td>\n",
              "            </tr>\n",
              "            <tr>\n",
              "                        <th id=\"T_67b7a786_900d_11eb_bfc8_0242ac1c0002level0_row16\" class=\"row_heading level0 row16\" >16</th>\n",
              "                        <td id=\"T_67b7a786_900d_11eb_bfc8_0242ac1c0002row16_col0\" class=\"data row16 col0\" >0</td>\n",
              "                        <td id=\"T_67b7a786_900d_11eb_bfc8_0242ac1c0002row16_col1\" class=\"data row16 col1\" >0</td>\n",
              "                        <td id=\"T_67b7a786_900d_11eb_bfc8_0242ac1c0002row16_col2\" class=\"data row16 col2\" >86</td>\n",
              "                        <td id=\"T_67b7a786_900d_11eb_bfc8_0242ac1c0002row16_col3\" class=\"data row16 col3\" >229</td>\n",
              "                        <td id=\"T_67b7a786_900d_11eb_bfc8_0242ac1c0002row16_col4\" class=\"data row16 col4\" >251</td>\n",
              "                        <td id=\"T_67b7a786_900d_11eb_bfc8_0242ac1c0002row16_col5\" class=\"data row16 col5\" >187</td>\n",
              "                        <td id=\"T_67b7a786_900d_11eb_bfc8_0242ac1c0002row16_col6\" class=\"data row16 col6\" >186</td>\n",
              "                        <td id=\"T_67b7a786_900d_11eb_bfc8_0242ac1c0002row16_col7\" class=\"data row16 col7\" >253</td>\n",
              "                        <td id=\"T_67b7a786_900d_11eb_bfc8_0242ac1c0002row16_col8\" class=\"data row16 col8\" >227</td>\n",
              "                        <td id=\"T_67b7a786_900d_11eb_bfc8_0242ac1c0002row16_col9\" class=\"data row16 col9\" >104</td>\n",
              "                        <td id=\"T_67b7a786_900d_11eb_bfc8_0242ac1c0002row16_col10\" class=\"data row16 col10\" >2</td>\n",
              "                        <td id=\"T_67b7a786_900d_11eb_bfc8_0242ac1c0002row16_col11\" class=\"data row16 col11\" >0</td>\n",
              "                        <td id=\"T_67b7a786_900d_11eb_bfc8_0242ac1c0002row16_col12\" class=\"data row16 col12\" >0</td>\n",
              "                        <td id=\"T_67b7a786_900d_11eb_bfc8_0242ac1c0002row16_col13\" class=\"data row16 col13\" >0</td>\n",
              "            </tr>\n",
              "            <tr>\n",
              "                        <th id=\"T_67b7a786_900d_11eb_bfc8_0242ac1c0002level0_row17\" class=\"row_heading level0 row17\" >17</th>\n",
              "                        <td id=\"T_67b7a786_900d_11eb_bfc8_0242ac1c0002row17_col0\" class=\"data row17 col0\" >0</td>\n",
              "                        <td id=\"T_67b7a786_900d_11eb_bfc8_0242ac1c0002row17_col1\" class=\"data row17 col1\" >0</td>\n",
              "                        <td id=\"T_67b7a786_900d_11eb_bfc8_0242ac1c0002row17_col2\" class=\"data row17 col2\" >0</td>\n",
              "                        <td id=\"T_67b7a786_900d_11eb_bfc8_0242ac1c0002row17_col3\" class=\"data row17 col3\" >10</td>\n",
              "                        <td id=\"T_67b7a786_900d_11eb_bfc8_0242ac1c0002row17_col4\" class=\"data row17 col4\" >88</td>\n",
              "                        <td id=\"T_67b7a786_900d_11eb_bfc8_0242ac1c0002row17_col5\" class=\"data row17 col5\" >170</td>\n",
              "                        <td id=\"T_67b7a786_900d_11eb_bfc8_0242ac1c0002row17_col6\" class=\"data row17 col6\" >223</td>\n",
              "                        <td id=\"T_67b7a786_900d_11eb_bfc8_0242ac1c0002row17_col7\" class=\"data row17 col7\" >139</td>\n",
              "                        <td id=\"T_67b7a786_900d_11eb_bfc8_0242ac1c0002row17_col8\" class=\"data row17 col8\" >22</td>\n",
              "                        <td id=\"T_67b7a786_900d_11eb_bfc8_0242ac1c0002row17_col9\" class=\"data row17 col9\" >0</td>\n",
              "                        <td id=\"T_67b7a786_900d_11eb_bfc8_0242ac1c0002row17_col10\" class=\"data row17 col10\" >0</td>\n",
              "                        <td id=\"T_67b7a786_900d_11eb_bfc8_0242ac1c0002row17_col11\" class=\"data row17 col11\" >0</td>\n",
              "                        <td id=\"T_67b7a786_900d_11eb_bfc8_0242ac1c0002row17_col12\" class=\"data row17 col12\" >0</td>\n",
              "                        <td id=\"T_67b7a786_900d_11eb_bfc8_0242ac1c0002row17_col13\" class=\"data row17 col13\" >0</td>\n",
              "            </tr>\n",
              "            <tr>\n",
              "                        <th id=\"T_67b7a786_900d_11eb_bfc8_0242ac1c0002level0_row18\" class=\"row_heading level0 row18\" >18</th>\n",
              "                        <td id=\"T_67b7a786_900d_11eb_bfc8_0242ac1c0002row18_col0\" class=\"data row18 col0\" >0</td>\n",
              "                        <td id=\"T_67b7a786_900d_11eb_bfc8_0242ac1c0002row18_col1\" class=\"data row18 col1\" >0</td>\n",
              "                        <td id=\"T_67b7a786_900d_11eb_bfc8_0242ac1c0002row18_col2\" class=\"data row18 col2\" >0</td>\n",
              "                        <td id=\"T_67b7a786_900d_11eb_bfc8_0242ac1c0002row18_col3\" class=\"data row18 col3\" >0</td>\n",
              "                        <td id=\"T_67b7a786_900d_11eb_bfc8_0242ac1c0002row18_col4\" class=\"data row18 col4\" >0</td>\n",
              "                        <td id=\"T_67b7a786_900d_11eb_bfc8_0242ac1c0002row18_col5\" class=\"data row18 col5\" >0</td>\n",
              "                        <td id=\"T_67b7a786_900d_11eb_bfc8_0242ac1c0002row18_col6\" class=\"data row18 col6\" >0</td>\n",
              "                        <td id=\"T_67b7a786_900d_11eb_bfc8_0242ac1c0002row18_col7\" class=\"data row18 col7\" >0</td>\n",
              "                        <td id=\"T_67b7a786_900d_11eb_bfc8_0242ac1c0002row18_col8\" class=\"data row18 col8\" >0</td>\n",
              "                        <td id=\"T_67b7a786_900d_11eb_bfc8_0242ac1c0002row18_col9\" class=\"data row18 col9\" >0</td>\n",
              "                        <td id=\"T_67b7a786_900d_11eb_bfc8_0242ac1c0002row18_col10\" class=\"data row18 col10\" >0</td>\n",
              "                        <td id=\"T_67b7a786_900d_11eb_bfc8_0242ac1c0002row18_col11\" class=\"data row18 col11\" >0</td>\n",
              "                        <td id=\"T_67b7a786_900d_11eb_bfc8_0242ac1c0002row18_col12\" class=\"data row18 col12\" >0</td>\n",
              "                        <td id=\"T_67b7a786_900d_11eb_bfc8_0242ac1c0002row18_col13\" class=\"data row18 col13\" >0</td>\n",
              "            </tr>\n",
              "            <tr>\n",
              "                        <th id=\"T_67b7a786_900d_11eb_bfc8_0242ac1c0002level0_row19\" class=\"row_heading level0 row19\" >19</th>\n",
              "                        <td id=\"T_67b7a786_900d_11eb_bfc8_0242ac1c0002row19_col0\" class=\"data row19 col0\" >0</td>\n",
              "                        <td id=\"T_67b7a786_900d_11eb_bfc8_0242ac1c0002row19_col1\" class=\"data row19 col1\" >0</td>\n",
              "                        <td id=\"T_67b7a786_900d_11eb_bfc8_0242ac1c0002row19_col2\" class=\"data row19 col2\" >0</td>\n",
              "                        <td id=\"T_67b7a786_900d_11eb_bfc8_0242ac1c0002row19_col3\" class=\"data row19 col3\" >0</td>\n",
              "                        <td id=\"T_67b7a786_900d_11eb_bfc8_0242ac1c0002row19_col4\" class=\"data row19 col4\" >0</td>\n",
              "                        <td id=\"T_67b7a786_900d_11eb_bfc8_0242ac1c0002row19_col5\" class=\"data row19 col5\" >0</td>\n",
              "                        <td id=\"T_67b7a786_900d_11eb_bfc8_0242ac1c0002row19_col6\" class=\"data row19 col6\" >0</td>\n",
              "                        <td id=\"T_67b7a786_900d_11eb_bfc8_0242ac1c0002row19_col7\" class=\"data row19 col7\" >0</td>\n",
              "                        <td id=\"T_67b7a786_900d_11eb_bfc8_0242ac1c0002row19_col8\" class=\"data row19 col8\" >0</td>\n",
              "                        <td id=\"T_67b7a786_900d_11eb_bfc8_0242ac1c0002row19_col9\" class=\"data row19 col9\" >0</td>\n",
              "                        <td id=\"T_67b7a786_900d_11eb_bfc8_0242ac1c0002row19_col10\" class=\"data row19 col10\" >0</td>\n",
              "                        <td id=\"T_67b7a786_900d_11eb_bfc8_0242ac1c0002row19_col11\" class=\"data row19 col11\" >0</td>\n",
              "                        <td id=\"T_67b7a786_900d_11eb_bfc8_0242ac1c0002row19_col12\" class=\"data row19 col12\" >0</td>\n",
              "                        <td id=\"T_67b7a786_900d_11eb_bfc8_0242ac1c0002row19_col13\" class=\"data row19 col13\" >0</td>\n",
              "            </tr>\n",
              "    </tbody></table>"
            ],
            "text/plain": [
              "<pandas.io.formats.style.Styler at 0x7f8f230edc90>"
            ]
          },
          "metadata": {
            "tags": []
          },
          "execution_count": 23
        }
      ]
    },
    {
      "cell_type": "code",
      "metadata": {
        "id": "XiNNzKz1K8RA"
      },
      "source": [
        "#stack tensors\n",
        "stacked_tensors = {key: torch.stack(imgs).float() / 255\n",
        "                   for (key, imgs) in img_tensors.items()}"
      ],
      "execution_count": 24,
      "outputs": []
    },
    {
      "cell_type": "code",
      "metadata": {
        "id": "eEEdrJLwLJB1",
        "colab": {
          "base_uri": "https://localhost:8080/"
        },
        "outputId": "69a8a6af-23ab-4148-9fae-db4d55508a94"
      },
      "source": [
        "for k,v in stacked_tensors.items(): print(f'{k}: {v.shape}')"
      ],
      "execution_count": 25,
      "outputs": [
        {
          "output_type": "stream",
          "text": [
            "0: torch.Size([5923, 28, 28])\n",
            "1: torch.Size([6742, 28, 28])\n",
            "2: torch.Size([5958, 28, 28])\n",
            "3: torch.Size([6131, 28, 28])\n",
            "4: torch.Size([5842, 28, 28])\n",
            "5: torch.Size([5421, 28, 28])\n",
            "6: torch.Size([5918, 28, 28])\n",
            "7: torch.Size([6265, 28, 28])\n",
            "8: torch.Size([5851, 28, 28])\n",
            "9: torch.Size([5949, 28, 28])\n"
          ],
          "name": "stdout"
        }
      ]
    },
    {
      "cell_type": "code",
      "metadata": {
        "id": "YvnAGmS4LQA-"
      },
      "source": [
        "mean_tensors = {key: imgs.mean(0) for (key, imgs) in stacked_tensors.items()}"
      ],
      "execution_count": 26,
      "outputs": []
    },
    {
      "cell_type": "code",
      "metadata": {
        "id": "HAEPPVUcLV-4",
        "colab": {
          "base_uri": "https://localhost:8080/",
          "height": 112
        },
        "outputId": "5fc0291e-7bea-4ca6-93c0-f025d6fc4c8f"
      },
      "source": [
        "#display class means\n",
        "show_images(list(mean_tensors.values()))"
      ],
      "execution_count": 27,
      "outputs": [
        {
          "output_type": "display_data",
          "data": {
            "image/png": "[encoded data removed]",
            "text/plain": [
              "<Figure size 2160x216 with 10 Axes>"
            ]
          },
          "metadata": {
            "tags": [],
            "needs_background": "light"
          }
        }
      ]
    },
    {
      "cell_type": "code",
      "metadata": {
        "id": "QWGVK0t0w7gI"
      },
      "source": [
        "#okay that's actually pretty cool.."
      ],
      "execution_count": null,
      "outputs": []
    },
    {
      "cell_type": "code",
      "metadata": {
        "id": "IUokdkXsLXC8",
        "colab": {
          "base_uri": "https://localhost:8080/",
          "height": 102
        },
        "outputId": "abded595-e202-4c2e-deb3-12d759e649a9"
      },
      "source": [
        "a_0 = stacked_tensors[0][1]\n",
        "show_image(a_0)"
      ],
      "execution_count": 28,
      "outputs": [
        {
          "output_type": "execute_result",
          "data": {
            "text/plain": [
              "<matplotlib.axes._subplots.AxesSubplot at 0x7f8f22c80050>"
            ]
          },
          "metadata": {
            "tags": []
          },
          "execution_count": 28
        },
        {
          "output_type": "display_data",
          "data": {
            "image/png": "[encoded data removed]",
            "text/plain": [
              "<Figure size 72x72 with 1 Axes>"
            ]
          },
          "metadata": {
            "tags": [],
            "needs_background": "light"
          }
        }
      ]
    },
    {
      "cell_type": "code",
      "metadata": {
        "id": "SFT8EI56Lfx9",
        "colab": {
          "base_uri": "https://localhost:8080/"
        },
        "outputId": "6113dc2c-c0e8-41b6-c9bb-5438764960e5"
      },
      "source": [
        "print(' '*5 + 'MAE    RMSE')\n",
        "for key, mean in mean_tensors.items():\n",
        "  dist_mae = (a_0 - mean).abs().mean()\n",
        "  dist_rmse = ((a_0 - mean) ** 2).mean().sqrt()\n",
        "  print(f'{key}: {dist_mae:.4f},  {dist_rmse:.4f}')"
      ],
      "execution_count": 30,
      "outputs": [
        {
          "output_type": "stream",
          "text": [
            "     MAE    RMSE\n",
            "0: 0.1447,  0.2505\n",
            "1: 0.1946,  0.3848\n",
            "2: 0.1663,  0.2891\n",
            "3: 0.1737,  0.3081\n",
            "4: 0.1596,  0.3014\n",
            "5: 0.1697,  0.2997\n",
            "6: 0.1543,  0.2858\n",
            "7: 0.1663,  0.3159\n",
            "8: 0.1660,  0.2999\n",
            "9: 0.1568,  0.2984\n"
          ],
          "name": "stdout"
        }
      ]
    },
    {
      "cell_type": "code",
      "metadata": {
        "id": "ozLQXJ3mL91e"
      },
      "source": [
        "def diff(a, b): return (a - b).abs().mean((-1, -2))"
      ],
      "execution_count": 31,
      "outputs": []
    },
    {
      "cell_type": "code",
      "metadata": {
        "id": "QTJEoOFzMDhW",
        "colab": {
          "base_uri": "https://localhost:8080/"
        },
        "outputId": "93eaca84-fc0e-404f-979f-ec332360027b"
      },
      "source": [
        "diff(a_0, mean_tensors[0])"
      ],
      "execution_count": 32,
      "outputs": [
        {
          "output_type": "execute_result",
          "data": {
            "text/plain": [
              "tensor(0.1447)"
            ]
          },
          "metadata": {
            "tags": []
          },
          "execution_count": 32
        }
      ]
    },
    {
      "cell_type": "code",
      "metadata": {
        "id": "QRtF25geMGj-"
      },
      "source": [
        "#prep validation set\n",
        "valid_fns = {i: [fn for fn in (path/f'testing/{i}').ls()] for i in range(10)}\n",
        "valid_stacked_tensors = {key: torch.stack([tensor(Image.open(pat)) for pat in paths]).float()/255\n",
        "                         for (key, paths) in valid_fns.items()}"
      ],
      "execution_count": 33,
      "outputs": []
    },
    {
      "cell_type": "code",
      "metadata": {
        "id": "WdEXSfdjMpTe",
        "colab": {
          "base_uri": "https://localhost:8080/"
        },
        "outputId": "fcca84ac-c56f-446c-f682-d5ebc213919c"
      },
      "source": [
        "for k,v in valid_stacked_tensors.items(): print(f'{k}: {v.shape}')"
      ],
      "execution_count": 35,
      "outputs": [
        {
          "output_type": "stream",
          "text": [
            "0: torch.Size([980, 28, 28])\n",
            "1: torch.Size([1135, 28, 28])\n",
            "2: torch.Size([1032, 28, 28])\n",
            "3: torch.Size([1010, 28, 28])\n",
            "4: torch.Size([982, 28, 28])\n",
            "5: torch.Size([892, 28, 28])\n",
            "6: torch.Size([958, 28, 28])\n",
            "7: torch.Size([1028, 28, 28])\n",
            "8: torch.Size([974, 28, 28])\n",
            "9: torch.Size([1009, 28, 28])\n"
          ],
          "name": "stdout"
        }
      ]
    },
    {
      "cell_type": "code",
      "metadata": {
        "id": "r2VDQ-JVMyVs",
        "colab": {
          "base_uri": "https://localhost:8080/"
        },
        "outputId": "b83151f2-076b-456e-ea3a-635f3e8c66c5"
      },
      "source": [
        "diff_0 = diff(valid_stacked_tensors[0], mean_tensors[0])\n",
        "diff_1 = diff(valid_stacked_tensors[0], mean_tensors[1])\n",
        "diff_2 = diff(valid_stacked_tensors[0], mean_tensors[2])\n",
        "\n",
        "diff_0.shape, diff_1.shape, diff_2.shape"
      ],
      "execution_count": 36,
      "outputs": [
        {
          "output_type": "execute_result",
          "data": {
            "text/plain": [
              "(torch.Size([980]), torch.Size([980]), torch.Size([980]))"
            ]
          },
          "metadata": {
            "tags": []
          },
          "execution_count": 36
        }
      ]
    },
    {
      "cell_type": "code",
      "metadata": {
        "id": "9s6ME46wM-15",
        "colab": {
          "base_uri": "https://localhost:8080/"
        },
        "outputId": "dfffe848-9777-4fce-8133-d395dbb0dfd3"
      },
      "source": [
        "diff_combined = torch.stack([diff_0, diff_1, diff_2]).T\n",
        "diff_combined.shape"
      ],
      "execution_count": 37,
      "outputs": [
        {
          "output_type": "execute_result",
          "data": {
            "text/plain": [
              "torch.Size([980, 3])"
            ]
          },
          "metadata": {
            "tags": []
          },
          "execution_count": 37
        }
      ]
    },
    {
      "cell_type": "code",
      "metadata": {
        "id": "WazxkD5kNFbO",
        "colab": {
          "base_uri": "https://localhost:8080/"
        },
        "outputId": "e7272186-affa-4632-d466-9b83cf2f38fe"
      },
      "source": [
        "diff_combined[0]"
      ],
      "execution_count": 38,
      "outputs": [
        {
          "output_type": "execute_result",
          "data": {
            "text/plain": [
              "tensor([0.1702, 0.1931, 0.2081])"
            ]
          },
          "metadata": {
            "tags": []
          },
          "execution_count": 38
        }
      ]
    },
    {
      "cell_type": "code",
      "metadata": {
        "id": "Z80IGfUBNHE_"
      },
      "source": [
        "mins = diff_combined.min(1)"
      ],
      "execution_count": 40,
      "outputs": []
    },
    {
      "cell_type": "code",
      "metadata": {
        "id": "r7WjnCzxNJMn",
        "colab": {
          "base_uri": "https://localhost:8080/"
        },
        "outputId": "a1c073f1-af0c-48e0-cb12-6418720eb0dc"
      },
      "source": [
        "(mins.indices == 0).float().mean()"
      ],
      "execution_count": 41,
      "outputs": [
        {
          "output_type": "execute_result",
          "data": {
            "text/plain": [
              "tensor(0.8980)"
            ]
          },
          "metadata": {
            "tags": []
          },
          "execution_count": 41
        }
      ]
    },
    {
      "cell_type": "code",
      "metadata": {
        "id": "3UmAlw7LNNnL"
      },
      "source": [
        "#let's try to put the above into a function\n",
        "def cal_accuracy(imgs_dict, means_dict):\n",
        "  accuracies = []\n",
        "  for kv, images in imgs_dict.items():\n",
        "    diffs = []\n",
        "    for km, mean in means_dict.items():\n",
        "      diffs.append(diff(images, mean))\n",
        "\n",
        "    diffs = torch.stack(diffs).T\n",
        "    mins = diffs.min(1)\n",
        "    acc = (mins.indices == kv).float().mean()\n",
        "    accuracies.append(acc)\n",
        "  return accuracies"
      ],
      "execution_count": 42,
      "outputs": []
    },
    {
      "cell_type": "code",
      "metadata": {
        "id": "rRrtu9DRNmg4"
      },
      "source": [
        "accuracies = cal_accuracy(valid_stacked_tensors, mean_tensors)"
      ],
      "execution_count": 43,
      "outputs": []
    },
    {
      "cell_type": "code",
      "metadata": {
        "id": "lZiCFrYHNsBt",
        "colab": {
          "base_uri": "https://localhost:8080/"
        },
        "outputId": "65226170-e9a8-485b-e77f-6ef01affee6b"
      },
      "source": [
        "print('Class Accuracy')\n",
        "for i, acc in enumerate(accuracies): print(f'{i}    {acc:.4f}')\n",
        "\n",
        "print(f'Average accuracy: {tensor(accuracies).mean():.4f}')\n"
      ],
      "execution_count": 44,
      "outputs": [
        {
          "output_type": "stream",
          "text": [
            "Class Accuracy\n",
            "0    0.8153\n",
            "1    0.9982\n",
            "2    0.4234\n",
            "3    0.6089\n",
            "4    0.6680\n",
            "5    0.3262\n",
            "6    0.7871\n",
            "7    0.7646\n",
            "8    0.4425\n",
            "9    0.7760\n",
            "Average accuracy: 0.6610\n"
          ],
          "name": "stdout"
        }
      ]
    },
    {
      "cell_type": "code",
      "metadata": {
        "id": "YEBe7lyzKtoS"
      },
      "source": [
        "# now use SGD\n",
        "def create_labels(rows, cols, index):\n",
        "  labels = torch.zeros((rows, cols))\n",
        "  labels[:, index] = 1\n",
        "  return labels"
      ],
      "execution_count": 45,
      "outputs": []
    },
    {
      "cell_type": "code",
      "metadata": {
        "id": "yzNFLqLwK43Z",
        "colab": {
          "base_uri": "https://localhost:8080/"
        },
        "outputId": "6281d40e-3d93-47da-d2ab-88a2957c7b01"
      },
      "source": [
        "#create labels for classes in training set\n",
        "stacked_labels = {key: create_labels(tensors.shape[0], len(stacked_tensors), key)\n",
        "for key, tensors in stacked_tensors.items()}\n",
        "stacked_labels[5][:10]"
      ],
      "execution_count": 46,
      "outputs": [
        {
          "output_type": "execute_result",
          "data": {
            "text/plain": [
              "tensor([[0., 0., 0., 0., 0., 1., 0., 0., 0., 0.],\n",
              "        [0., 0., 0., 0., 0., 1., 0., 0., 0., 0.],\n",
              "        [0., 0., 0., 0., 0., 1., 0., 0., 0., 0.],\n",
              "        [0., 0., 0., 0., 0., 1., 0., 0., 0., 0.],\n",
              "        [0., 0., 0., 0., 0., 1., 0., 0., 0., 0.],\n",
              "        [0., 0., 0., 0., 0., 1., 0., 0., 0., 0.],\n",
              "        [0., 0., 0., 0., 0., 1., 0., 0., 0., 0.],\n",
              "        [0., 0., 0., 0., 0., 1., 0., 0., 0., 0.],\n",
              "        [0., 0., 0., 0., 0., 1., 0., 0., 0., 0.],\n",
              "        [0., 0., 0., 0., 0., 1., 0., 0., 0., 0.]])"
            ]
          },
          "metadata": {
            "tags": []
          },
          "execution_count": 46
        }
      ]
    },
    {
      "cell_type": "code",
      "metadata": {
        "id": "SGPPXNr4LPUC",
        "colab": {
          "base_uri": "https://localhost:8080/"
        },
        "outputId": "aa5409b3-d39b-4c35-a3c5-c4b3eba17688"
      },
      "source": [
        "train_x = torch.cat([o for o in stacked_tensors.values()]).view(-1,28*28)\n",
        "train_y = torch.cat([o for o in stacked_labels.values()])\n",
        "\n",
        "train_x.shape, train_y.shape"
      ],
      "execution_count": 47,
      "outputs": [
        {
          "output_type": "execute_result",
          "data": {
            "text/plain": [
              "(torch.Size([60000, 784]), torch.Size([60000, 10]))"
            ]
          },
          "metadata": {
            "tags": []
          },
          "execution_count": 47
        }
      ]
    },
    {
      "cell_type": "code",
      "metadata": {
        "id": "vI4h_DEYLj7c",
        "colab": {
          "base_uri": "https://localhost:8080/"
        },
        "outputId": "0f9a9430-fab9-4b5d-e343-2f6b48678939"
      },
      "source": [
        "#now validation set\n",
        "valid_stacked_labels = {key: create_labels(tensors.shape[0], len(valid_stacked_tensors), key)\n",
        "for key, tensors in valid_stacked_tensors.items()}\n",
        "\n",
        "valid_x = torch.cat([o for o in valid_stacked_tensors.values()]).view(-1, 28*28)\n",
        "valid_y = torch.cat([o for o in valid_stacked_labels.values()])\n",
        "\n",
        "valid_x.shape, valid_y.shape"
      ],
      "execution_count": 48,
      "outputs": [
        {
          "output_type": "execute_result",
          "data": {
            "text/plain": [
              "(torch.Size([10000, 784]), torch.Size([10000, 10]))"
            ]
          },
          "metadata": {
            "tags": []
          },
          "execution_count": 48
        }
      ]
    },
    {
      "cell_type": "code",
      "metadata": {
        "id": "jw1Ao33DMD1h",
        "colab": {
          "base_uri": "https://localhost:8080/"
        },
        "outputId": "de6be794-c5b2-435b-f8aa-d06d1448b2b2"
      },
      "source": [
        "train_dataset = list(zip(train_x, train_y))\n",
        "train_dl = DataLoader(train_dataset, bs=64, shuffle=True)\n",
        "a_batch = first(train_dl)\n",
        "a_batch[0].shape, a_batch[1].shape"
      ],
      "execution_count": 49,
      "outputs": [
        {
          "output_type": "execute_result",
          "data": {
            "text/plain": [
              "(torch.Size([64, 784]), torch.Size([64, 10]))"
            ]
          },
          "metadata": {
            "tags": []
          },
          "execution_count": 49
        }
      ]
    },
    {
      "cell_type": "code",
      "metadata": {
        "id": "ZH3LpEX2MSbv"
      },
      "source": [
        "valid_dataset = list(zip(valid_x, valid_y))\n",
        "valid_dl = DataLoader(valid_dataset, bs=64)"
      ],
      "execution_count": 50,
      "outputs": []
    },
    {
      "cell_type": "code",
      "metadata": {
        "id": "7JDOJg1SMdV7"
      },
      "source": [
        "#loss function\n",
        "\n",
        "def cross_entropy_loss(preds, targets):\n",
        "  loss = -(targets * preds.log()).sum() / len(preds)\n",
        "  return loss\n"
      ],
      "execution_count": 51,
      "outputs": []
    },
    {
      "cell_type": "code",
      "metadata": {
        "id": "6_IEM8dBMotw",
        "colab": {
          "base_uri": "https://localhost:8080/"
        },
        "outputId": "d5c51988-056c-440f-d8f0-87d85cb61faf"
      },
      "source": [
        "targets = torch.tensor([1, 0, 0])\n",
        "preds = torch.tensor([0.7, 0.2, 0.1])\n",
        "\n",
        "cross_entropy_loss(preds, targets)"
      ],
      "execution_count": 52,
      "outputs": [
        {
          "output_type": "execute_result",
          "data": {
            "text/plain": [
              "tensor(0.1189)"
            ]
          },
          "metadata": {
            "tags": []
          },
          "execution_count": 52
        }
      ]
    },
    {
      "cell_type": "code",
      "metadata": {
        "id": "ktytK3TrM3Tc"
      },
      "source": [
        "# softmax turns prediction to probabilities to sum to 1\n",
        "def cross_entropy_loss(preds, targets):\n",
        "  preds = preds.softmax(dim=1)\n",
        "  loss = -(targets * preds.log()).sum() / len(preds)\n",
        "  return loss\n",
        "\n"
      ],
      "execution_count": 53,
      "outputs": []
    },
    {
      "cell_type": "code",
      "metadata": {
        "id": "UqLtB7N4NNS5"
      },
      "source": [
        "#define a network\n",
        "def init_params(size, std=1.0):\n",
        "  return (torch.randn(size)*std).requires_grad_()"
      ],
      "execution_count": 54,
      "outputs": []
    },
    {
      "cell_type": "code",
      "metadata": {
        "id": "d5IgBxRDNYxv"
      },
      "source": [
        "weights = init_params((28*28,10))\n",
        "bias = init_params(1)"
      ],
      "execution_count": 55,
      "outputs": []
    },
    {
      "cell_type": "code",
      "metadata": {
        "id": "q-vH6J_hNeJa"
      },
      "source": [
        "def linear1(xb):\n",
        "  return xb@weights + bias"
      ],
      "execution_count": 56,
      "outputs": []
    },
    {
      "cell_type": "code",
      "metadata": {
        "id": "ghcceHFINjFK",
        "colab": {
          "base_uri": "https://localhost:8080/"
        },
        "outputId": "ab1a6124-bd95-4661-d4bc-f088856e2e66"
      },
      "source": [
        "#forward pass\n",
        "images, labels = a_batch\n",
        "preds = linear1(images)\n",
        "loss = cross_entropy_loss(preds, labels)\n",
        "loss"
      ],
      "execution_count": 57,
      "outputs": [
        {
          "output_type": "execute_result",
          "data": {
            "text/plain": [
              "tensor(16.7202, grad_fn=<DivBackward0>)"
            ]
          },
          "metadata": {
            "tags": []
          },
          "execution_count": 57
        }
      ]
    },
    {
      "cell_type": "code",
      "metadata": {
        "id": "bghZlCZFNx1H"
      },
      "source": [
        "loss.backward()"
      ],
      "execution_count": 58,
      "outputs": []
    },
    {
      "cell_type": "code",
      "metadata": {
        "id": "joWjmXgQN0xg"
      },
      "source": [
        "lr = 1e-3\n",
        "weights.data -= weights.grad * lr\n",
        "bias.data -= bias.grad * lr"
      ],
      "execution_count": 59,
      "outputs": []
    },
    {
      "cell_type": "code",
      "metadata": {
        "id": "X4y3IY_5N9wX"
      },
      "source": [
        "weights.grad = None\n",
        "bias.grad = None"
      ],
      "execution_count": 60,
      "outputs": []
    },
    {
      "cell_type": "code",
      "metadata": {
        "id": "R5gb5ibzOAbD",
        "colab": {
          "base_uri": "https://localhost:8080/"
        },
        "outputId": "b4b13dc4-1a3a-4b18-bdd8-d3c0cd4d6247"
      },
      "source": [
        "preds = linear1(images)\n",
        "loss = cross_entropy_loss(preds, labels)\n",
        "loss"
      ],
      "execution_count": 61,
      "outputs": [
        {
          "output_type": "execute_result",
          "data": {
            "text/plain": [
              "tensor(16.6969, grad_fn=<DivBackward0>)"
            ]
          },
          "metadata": {
            "tags": []
          },
          "execution_count": 61
        }
      ]
    },
    {
      "cell_type": "code",
      "metadata": {
        "id": "ZaSeEi0mOGqL"
      },
      "source": [
        "def calc_grad(images, labels, model):\n",
        "  preds = model(images)\n",
        "  loss = cross_entropy_loss(preds, labels)\n",
        "  loss.backward()"
      ],
      "execution_count": 62,
      "outputs": []
    },
    {
      "cell_type": "code",
      "metadata": {
        "id": "rJLUDekAON89"
      },
      "source": [
        "def train_epoch(model, lr, params):\n",
        "  for images, labels in train_dl:\n",
        "    calc_grad(images, labels, model)\n",
        "    for p in params:\n",
        "      p.data -= p.grad *lr\n",
        "      p.grad.zero_()"
      ],
      "execution_count": 63,
      "outputs": []
    },
    {
      "cell_type": "code",
      "metadata": {
        "id": "huv9onjXOZE_"
      },
      "source": [
        "def cal_accuracy(preds, targets):\n",
        "  preds = preds.softmax(dim=1)\n",
        "  preds_i = preds.max(1).indices\n",
        "  targets_i = targets.max(1).indices\n",
        "  return (preds_i == targets_i).float().mean()"
      ],
      "execution_count": 64,
      "outputs": []
    },
    {
      "cell_type": "code",
      "metadata": {
        "id": "wTFqZP99OohI"
      },
      "source": [
        "def validate_epoch(model):\n",
        "  accs = [cal_accuracy(model(images), labels)\n",
        "  for images, labels in valid_dl]\n",
        "  return torch.stack(accs).mean()"
      ],
      "execution_count": 65,
      "outputs": []
    },
    {
      "cell_type": "code",
      "metadata": {
        "id": "u9JIIW7VOyyG",
        "colab": {
          "base_uri": "https://localhost:8080/"
        },
        "outputId": "a75079a6-f24f-4143-d32a-f614c715bdd4"
      },
      "source": [
        "validate_epoch(linear1)"
      ],
      "execution_count": 66,
      "outputs": [
        {
          "output_type": "execute_result",
          "data": {
            "text/plain": [
              "tensor(0.0739)"
            ]
          },
          "metadata": {
            "tags": []
          },
          "execution_count": 66
        }
      ]
    },
    {
      "cell_type": "code",
      "metadata": {
        "id": "DWMGVN6aO1t5",
        "colab": {
          "base_uri": "https://localhost:8080/"
        },
        "outputId": "daeb51c8-9d13-466e-8329-c9472a94a413"
      },
      "source": [
        "for _ in range(40):\n",
        "  train_epoch(linear1, lr, (weights, bias))\n",
        "  print(f'{validate_epoch(linear1):.4f}', end=' ')"
      ],
      "execution_count": 68,
      "outputs": [
        {
          "output_type": "stream",
          "text": [
            "0.0941 0.1289 0.1699 0.2142 0.2544 0.2933 0.3244 0.3554 0.3836 0.4089 0.4316 0.4539 0.4762 0.4941 0.5092 0.5244 0.5386 0.5528 0.5655 0.5757 0.5858 0.5958 0.6051 0.6133 0.6219 0.6295 0.6375 0.6446 0.6505 0.6565 0.6629 0.6685 0.6749 0.6808 0.6854 0.6907 0.6953 0.6996 0.7033 0.7064 "
          ],
          "name": "stdout"
        }
      ]
    },
    {
      "cell_type": "code",
      "metadata": {
        "id": "r_cGSF75PDGI"
      },
      "source": [
        "#create optimizer"
      ],
      "execution_count": null,
      "outputs": []
    },
    {
      "cell_type": "code",
      "metadata": {
        "id": "lfjubi8TQiXe"
      },
      "source": [
        "class Optimizer():\n",
        "  def __init__(self, params, lr):\n",
        "    self.params = list(params)\n",
        "    self.lr = lr\n",
        "\n",
        "  def step(self):\n",
        "    for p in self.params:\n",
        "      p.data -= p.grad * self.lr\n",
        "\n",
        "  def zero_grad(self):\n",
        "    for p in self.params:\n",
        "      p.grad = None"
      ],
      "execution_count": 69,
      "outputs": []
    },
    {
      "cell_type": "code",
      "metadata": {
        "id": "wEs6ieWCQ1La"
      },
      "source": [
        "optim = Optimizer((weights, bias), lr)"
      ],
      "execution_count": 70,
      "outputs": []
    },
    {
      "cell_type": "code",
      "metadata": {
        "id": "wYmAWZE0Q6gh"
      },
      "source": [
        "def train_epoch(model, optim):\n",
        "  for images, labels in train_dl:\n",
        "    calc_grad(images, labels, model)\n",
        "    optim.step()\n",
        "    optim.zero_grad()"
      ],
      "execution_count": 71,
      "outputs": []
    },
    {
      "cell_type": "code",
      "metadata": {
        "id": "lRUK0T7WRED3",
        "colab": {
          "base_uri": "https://localhost:8080/"
        },
        "outputId": "e09fd6ed-6959-4f31-9bfb-ac1bba29464e"
      },
      "source": [
        "for _ in range(10):\n",
        "  train_epoch(linear1, optim)\n",
        "  print(f'{validate_epoch(linear1):.4f}', end=' ')"
      ],
      "execution_count": 72,
      "outputs": [
        {
          "output_type": "stream",
          "text": [
            "0.7097 0.7124 0.7154 0.7188 0.7220 0.7253 0.7298 0.7333 0.7358 0.7375 "
          ],
          "name": "stdout"
        }
      ]
    },
    {
      "cell_type": "code",
      "metadata": {
        "id": "n97glDNA2-m1"
      },
      "source": [
        "def train_model(model, optim, epochs):\n",
        "  for _ in range(epochs):\n",
        "    train_epoch(model, optim)\n",
        "    print(f'{validate_epoch(linear1):.4f}', end=' ')"
      ],
      "execution_count": 74,
      "outputs": []
    },
    {
      "cell_type": "code",
      "metadata": {
        "id": "luFO8F8qRRlQ",
        "colab": {
          "base_uri": "https://localhost:8080/"
        },
        "outputId": "dc169978-08e1-4f39-e6dd-2a43a80ab6ec"
      },
      "source": [
        "train_model(linear1, optim, 10)"
      ],
      "execution_count": 75,
      "outputs": [
        {
          "output_type": "stream",
          "text": [
            "0.7401 0.7422 0.7446 0.7464 0.7492 0.7502 0.7520 0.7536 0.7559 0.7576 "
          ],
          "name": "stdout"
        }
      ]
    },
    {
      "cell_type": "code",
      "metadata": {
        "id": "0CrWWc5bRWhD"
      },
      "source": [
        "#replace optimizer with pytorch sgd"
      ],
      "execution_count": null,
      "outputs": []
    },
    {
      "cell_type": "code",
      "metadata": {
        "id": "nl4QG0trFKxt"
      },
      "source": [
        "linear = nn.Linear(28*28, 10)\n",
        "optim = SGD(linear.parameters(), lr)"
      ],
      "execution_count": 76,
      "outputs": []
    },
    {
      "cell_type": "code",
      "metadata": {
        "id": "qGi7Ck02FRaI"
      },
      "source": [
        "dls = DataLoaders(train_dl, valid_dl)"
      ],
      "execution_count": 77,
      "outputs": []
    },
    {
      "cell_type": "code",
      "metadata": {
        "id": "vjYV4t9fFU2I"
      },
      "source": [
        "learn = Learner(dls, linear, opt_func=SGD,\n",
        "                loss_func=cross_entropy_loss, metrics=cal_accuracy)"
      ],
      "execution_count": 78,
      "outputs": []
    },
    {
      "cell_type": "code",
      "metadata": {
        "id": "QM_zRSjLFdXb",
        "colab": {
          "base_uri": "https://localhost:8080/",
          "height": 359
        },
        "outputId": "842ec883-2a66-4b2f-d3ad-94a400343fe4"
      },
      "source": [
        "learn.fit(10, lr=lr)"
      ],
      "execution_count": 79,
      "outputs": [
        {
          "output_type": "display_data",
          "data": {
            "text/html": [
              "<table border=\"1\" class=\"dataframe\">\n",
              "  <thead>\n",
              "    <tr style=\"text-align: left;\">\n",
              "      <th>epoch</th>\n",
              "      <th>train_loss</th>\n",
              "      <th>valid_loss</th>\n",
              "      <th>cal_accuracy</th>\n",
              "      <th>time</th>\n",
              "    </tr>\n",
              "  </thead>\n",
              "  <tbody>\n",
              "    <tr>\n",
              "      <td>0</td>\n",
              "      <td>1.612242</td>\n",
              "      <td>1.560185</td>\n",
              "      <td>0.770300</td>\n",
              "      <td>00:02</td>\n",
              "    </tr>\n",
              "    <tr>\n",
              "      <td>1</td>\n",
              "      <td>1.229928</td>\n",
              "      <td>1.200488</td>\n",
              "      <td>0.811400</td>\n",
              "      <td>00:02</td>\n",
              "    </tr>\n",
              "    <tr>\n",
              "      <td>2</td>\n",
              "      <td>1.038504</td>\n",
              "      <td>1.002159</td>\n",
              "      <td>0.828400</td>\n",
              "      <td>00:02</td>\n",
              "    </tr>\n",
              "    <tr>\n",
              "      <td>3</td>\n",
              "      <td>0.910729</td>\n",
              "      <td>0.879397</td>\n",
              "      <td>0.840900</td>\n",
              "      <td>00:02</td>\n",
              "    </tr>\n",
              "    <tr>\n",
              "      <td>4</td>\n",
              "      <td>0.830581</td>\n",
              "      <td>0.796035</td>\n",
              "      <td>0.847500</td>\n",
              "      <td>00:02</td>\n",
              "    </tr>\n",
              "    <tr>\n",
              "      <td>5</td>\n",
              "      <td>0.753542</td>\n",
              "      <td>0.735853</td>\n",
              "      <td>0.853500</td>\n",
              "      <td>00:02</td>\n",
              "    </tr>\n",
              "    <tr>\n",
              "      <td>6</td>\n",
              "      <td>0.717748</td>\n",
              "      <td>0.690115</td>\n",
              "      <td>0.858100</td>\n",
              "      <td>00:02</td>\n",
              "    </tr>\n",
              "    <tr>\n",
              "      <td>7</td>\n",
              "      <td>0.683450</td>\n",
              "      <td>0.654029</td>\n",
              "      <td>0.862500</td>\n",
              "      <td>00:02</td>\n",
              "    </tr>\n",
              "    <tr>\n",
              "      <td>8</td>\n",
              "      <td>0.659041</td>\n",
              "      <td>0.624670</td>\n",
              "      <td>0.864400</td>\n",
              "      <td>00:02</td>\n",
              "    </tr>\n",
              "    <tr>\n",
              "      <td>9</td>\n",
              "      <td>0.628629</td>\n",
              "      <td>0.600265</td>\n",
              "      <td>0.868400</td>\n",
              "      <td>00:02</td>\n",
              "    </tr>\n",
              "  </tbody>\n",
              "</table>"
            ],
            "text/plain": [
              "<IPython.core.display.HTML object>"
            ]
          },
          "metadata": {
            "tags": []
          }
        }
      ]
    },
    {
      "cell_type": "code",
      "metadata": {
        "id": "NWaAZMKyFf_D"
      },
      "source": [
        "#add non-linearity\n",
        "model = nn.Sequential(\n",
        "    nn.Linear(28*28, 128),\n",
        "    nn.ReLU(),\n",
        "    nn.Linear(128, 10)\n",
        ")"
      ],
      "execution_count": 80,
      "outputs": []
    },
    {
      "cell_type": "code",
      "metadata": {
        "id": "GyW1FM10Fqte"
      },
      "source": [
        "learn = Learner(dls, model, opt_func=SGD,\n",
        "                loss_func=cross_entropy_loss, metrics=cal_accuracy)"
      ],
      "execution_count": 82,
      "outputs": []
    },
    {
      "cell_type": "code",
      "metadata": {
        "id": "C3OAsmyWFxGe",
        "colab": {
          "base_uri": "https://localhost:8080/",
          "height": 669
        },
        "outputId": "f3c47abf-b901-4f31-db75-8587086c685e"
      },
      "source": [
        "learn.fit(20, 1e-2)"
      ],
      "execution_count": 84,
      "outputs": [
        {
          "output_type": "display_data",
          "data": {
            "text/html": [
              "<table border=\"1\" class=\"dataframe\">\n",
              "  <thead>\n",
              "    <tr style=\"text-align: left;\">\n",
              "      <th>epoch</th>\n",
              "      <th>train_loss</th>\n",
              "      <th>valid_loss</th>\n",
              "      <th>cal_accuracy</th>\n",
              "      <th>time</th>\n",
              "    </tr>\n",
              "  </thead>\n",
              "  <tbody>\n",
              "    <tr>\n",
              "      <td>0</td>\n",
              "      <td>0.331701</td>\n",
              "      <td>0.328005</td>\n",
              "      <td>0.907200</td>\n",
              "      <td>00:03</td>\n",
              "    </tr>\n",
              "    <tr>\n",
              "      <td>1</td>\n",
              "      <td>0.314212</td>\n",
              "      <td>0.308426</td>\n",
              "      <td>0.913300</td>\n",
              "      <td>00:03</td>\n",
              "    </tr>\n",
              "    <tr>\n",
              "      <td>2</td>\n",
              "      <td>0.313837</td>\n",
              "      <td>0.293192</td>\n",
              "      <td>0.918100</td>\n",
              "      <td>00:03</td>\n",
              "    </tr>\n",
              "    <tr>\n",
              "      <td>3</td>\n",
              "      <td>0.306746</td>\n",
              "      <td>0.282685</td>\n",
              "      <td>0.920600</td>\n",
              "      <td>00:03</td>\n",
              "    </tr>\n",
              "    <tr>\n",
              "      <td>4</td>\n",
              "      <td>0.291000</td>\n",
              "      <td>0.270517</td>\n",
              "      <td>0.923100</td>\n",
              "      <td>00:03</td>\n",
              "    </tr>\n",
              "    <tr>\n",
              "      <td>5</td>\n",
              "      <td>0.267491</td>\n",
              "      <td>0.262903</td>\n",
              "      <td>0.925900</td>\n",
              "      <td>00:03</td>\n",
              "    </tr>\n",
              "    <tr>\n",
              "      <td>6</td>\n",
              "      <td>0.253750</td>\n",
              "      <td>0.253121</td>\n",
              "      <td>0.929100</td>\n",
              "      <td>00:03</td>\n",
              "    </tr>\n",
              "    <tr>\n",
              "      <td>7</td>\n",
              "      <td>0.239117</td>\n",
              "      <td>0.244833</td>\n",
              "      <td>0.930100</td>\n",
              "      <td>00:03</td>\n",
              "    </tr>\n",
              "    <tr>\n",
              "      <td>8</td>\n",
              "      <td>0.243737</td>\n",
              "      <td>0.236420</td>\n",
              "      <td>0.932200</td>\n",
              "      <td>00:03</td>\n",
              "    </tr>\n",
              "    <tr>\n",
              "      <td>9</td>\n",
              "      <td>0.251245</td>\n",
              "      <td>0.229421</td>\n",
              "      <td>0.935000</td>\n",
              "      <td>00:03</td>\n",
              "    </tr>\n",
              "    <tr>\n",
              "      <td>10</td>\n",
              "      <td>0.221743</td>\n",
              "      <td>0.221402</td>\n",
              "      <td>0.936800</td>\n",
              "      <td>00:04</td>\n",
              "    </tr>\n",
              "    <tr>\n",
              "      <td>11</td>\n",
              "      <td>0.213738</td>\n",
              "      <td>0.216378</td>\n",
              "      <td>0.938600</td>\n",
              "      <td>00:03</td>\n",
              "    </tr>\n",
              "    <tr>\n",
              "      <td>12</td>\n",
              "      <td>0.217905</td>\n",
              "      <td>0.209916</td>\n",
              "      <td>0.938900</td>\n",
              "      <td>00:03</td>\n",
              "    </tr>\n",
              "    <tr>\n",
              "      <td>13</td>\n",
              "      <td>0.201372</td>\n",
              "      <td>0.204629</td>\n",
              "      <td>0.939700</td>\n",
              "      <td>00:03</td>\n",
              "    </tr>\n",
              "    <tr>\n",
              "      <td>14</td>\n",
              "      <td>0.215122</td>\n",
              "      <td>0.199471</td>\n",
              "      <td>0.942300</td>\n",
              "      <td>00:03</td>\n",
              "    </tr>\n",
              "    <tr>\n",
              "      <td>15</td>\n",
              "      <td>0.185590</td>\n",
              "      <td>0.191974</td>\n",
              "      <td>0.943600</td>\n",
              "      <td>00:03</td>\n",
              "    </tr>\n",
              "    <tr>\n",
              "      <td>16</td>\n",
              "      <td>0.186299</td>\n",
              "      <td>0.188127</td>\n",
              "      <td>0.946200</td>\n",
              "      <td>00:03</td>\n",
              "    </tr>\n",
              "    <tr>\n",
              "      <td>17</td>\n",
              "      <td>0.190481</td>\n",
              "      <td>0.182584</td>\n",
              "      <td>0.946700</td>\n",
              "      <td>00:03</td>\n",
              "    </tr>\n",
              "    <tr>\n",
              "      <td>18</td>\n",
              "      <td>0.174832</td>\n",
              "      <td>0.178674</td>\n",
              "      <td>0.949200</td>\n",
              "      <td>00:03</td>\n",
              "    </tr>\n",
              "    <tr>\n",
              "      <td>19</td>\n",
              "      <td>0.166267</td>\n",
              "      <td>0.174223</td>\n",
              "      <td>0.949200</td>\n",
              "      <td>00:03</td>\n",
              "    </tr>\n",
              "  </tbody>\n",
              "</table>"
            ],
            "text/plain": [
              "<IPython.core.display.HTML object>"
            ]
          },
          "metadata": {
            "tags": []
          }
        }
      ]
    },
    {
      "cell_type": "code",
      "metadata": {
        "id": "U9lcinNYF0-F",
        "colab": {
          "base_uri": "https://localhost:8080/",
          "height": 265
        },
        "outputId": "ac3b87e8-8b70-4562-d3e0-036a6e15a7ff"
      },
      "source": [
        "plt.plot(L(learn.recorder.values).itemgot(2));"
      ],
      "execution_count": 85,
      "outputs": [
        {
          "output_type": "display_data",
          "data": {
            "image/png": "[encoded data removed]",
            "text/plain": [
              "<Figure size 432x288 with 1 Axes>"
            ]
          },
          "metadata": {
            "tags": [],
            "needs_background": "light"
          }
        }
      ]
    },
    {
      "cell_type": "code",
      "metadata": {
        "colab": {
          "base_uri": "https://localhost:8080/"
        },
        "id": "w9PKzfOt5UZC",
        "outputId": "7e1b5e70-6cdc-4caa-a500-4bec9e8e327d"
      },
      "source": [
        "learn.recorder.values[-1][2]"
      ],
      "execution_count": 86,
      "outputs": [
        {
          "output_type": "execute_result",
          "data": {
            "text/plain": [
              "0.9491999745368958"
            ]
          },
          "metadata": {
            "tags": []
          },
          "execution_count": 86
        }
      ]
    },
    {
      "cell_type": "code",
      "metadata": {
        "id": "hhbejLes5LZc"
      },
      "source": [
        "#close enough."
      ],
      "execution_count": null,
      "outputs": []
    },
    {
      "cell_type": "code",
      "metadata": {
        "id": "bXkVZVj7F47O",
        "colab": {
          "base_uri": "https://localhost:8080/",
          "height": 158
        },
        "outputId": "185967dd-dd80-462d-9a29-c1e1ec7b8770"
      },
      "source": [
        "#using resnet18\n",
        "dls = ImageDataLoaders.from_folder(path, train='training', valid='testing')\n",
        "\n",
        "learn = cnn_learner(dls, resnet18, pretrained=False,\n",
        "                    loss_func=F.cross_entropy, metrics=accuracy)\n",
        "\n",
        "learn.fit_one_cycle(1, 1e-3)"
      ],
      "execution_count": 88,
      "outputs": [
        {
          "output_type": "display_data",
          "data": {
            "text/html": [
              "\n",
              "    <div>\n",
              "        <style>\n",
              "            /* Turns off some styling */\n",
              "            progress {\n",
              "                /* gets rid of default border in Firefox and Opera. */\n",
              "                border: none;\n",
              "                /* Needs to be in here for Safari polyfill so background images work as expected. */\n",
              "                background-size: auto;\n",
              "            }\n",
              "            .progress-bar-interrupted, .progress-bar-interrupted::-webkit-progress-bar {\n",
              "                background: #F44336;\n",
              "            }\n",
              "        </style>\n",
              "      <progress value='0' class='' max='1' style='width:300px; height:20px; vertical-align: middle;'></progress>\n",
              "      0.00% [0/1 00:00<00:00]\n",
              "    </div>\n",
              "    \n",
              "<table border=\"1\" class=\"dataframe\">\n",
              "  <thead>\n",
              "    <tr style=\"text-align: left;\">\n",
              "      <th>epoch</th>\n",
              "      <th>train_loss</th>\n",
              "      <th>valid_loss</th>\n",
              "      <th>accuracy</th>\n",
              "      <th>time</th>\n",
              "    </tr>\n",
              "  </thead>\n",
              "  <tbody>\n",
              "  </tbody>\n",
              "</table><p>\n",
              "\n",
              "    <div>\n",
              "        <style>\n",
              "            /* Turns off some styling */\n",
              "            progress {\n",
              "                /* gets rid of default border in Firefox and Opera. */\n",
              "                border: none;\n",
              "                /* Needs to be in here for Safari polyfill so background images work as expected. */\n",
              "                background-size: auto;\n",
              "            }\n",
              "            .progress-bar-interrupted, .progress-bar-interrupted::-webkit-progress-bar {\n",
              "                background: #F44336;\n",
              "            }\n",
              "        </style>\n",
              "      <progress value='374' class='' max='937' style='width:300px; height:20px; vertical-align: middle;'></progress>\n",
              "      39.91% [374/937 06:37<09:58 0.2122]\n",
              "    </div>\n",
              "    "
            ],
            "text/plain": [
              "<IPython.core.display.HTML object>"
            ]
          },
          "metadata": {
            "tags": []
          }
        },
        {
          "output_type": "display_data",
          "data": {
            "text/html": [
              "<table border=\"1\" class=\"dataframe\">\n",
              "  <thead>\n",
              "    <tr style=\"text-align: left;\">\n",
              "      <th>epoch</th>\n",
              "      <th>train_loss</th>\n",
              "      <th>valid_loss</th>\n",
              "      <th>accuracy</th>\n",
              "      <th>time</th>\n",
              "    </tr>\n",
              "  </thead>\n",
              "  <tbody>\n",
              "    <tr>\n",
              "      <td>0</td>\n",
              "      <td>0.063171</td>\n",
              "      <td>0.033234</td>\n",
              "      <td>0.989700</td>\n",
              "      <td>17:02</td>\n",
              "    </tr>\n",
              "  </tbody>\n",
              "</table>"
            ],
            "text/plain": [
              "<IPython.core.display.HTML object>"
            ]
          },
          "metadata": {
            "tags": []
          }
        }
      ]
    }
  ]
}